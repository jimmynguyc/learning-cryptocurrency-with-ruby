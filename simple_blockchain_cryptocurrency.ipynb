{
 "cells": [
  {
   "cell_type": "markdown",
   "metadata": {
    "slideshow": {
     "slide_type": "-"
    }
   },
   "source": [
    "# Simple Cryptocurrency Proof of Concept in Ruby"
   ]
  },
  {
   "cell_type": "code",
   "execution_count": 1,
   "metadata": {
    "collapsed": false,
    "slideshow": {
     "slide_type": "-"
    }
   },
   "outputs": [
    {
     "data": {
      "text/plain": [
       ":error_message"
      ]
     },
     "execution_count": 1,
     "metadata": {},
     "output_type": "execute_result"
    }
   ],
   "source": [
    "require 'openssl'\n",
    "require 'minitest'\n",
    "require 'benchmark'\n",
    "require 'base64'\n",
    "\n",
    "# Enable assertions outside of Minitest::Test \n",
    "include Minitest::Assertions\n",
    "Object.class_eval do\n",
    "  attr_accessor :assertions\n",
    "end\n",
    "self.assertions = 0\n",
    "\n",
    "# Override IRuby::Kernal to hide backtrace from display\n",
    "# https://github.com/SciRuby/iruby/blob/master/lib/iruby/kernel.rb\n",
    "IRuby::Kernel.class_eval do\n",
    "  def error_message(e)\n",
    "    { status: :error,\n",
    "        ename: e.class.to_s,\n",
    "        evalue: e.message,\n",
    "        traceback: [\"\\e[31m#{e.class}\\e[0m: #{e.message}\"],\n",
    "        execution_count: @execution_count }\n",
    "    end\n",
    "end\n"
   ]
  },
  {
   "cell_type": "markdown",
   "metadata": {},
   "source": [
    "## The Miner\n",
    "\n",
    "The miner takes in a message & finds a `nonce` that satisfies a POW difficulty level"
   ]
  },
  {
   "cell_type": "code",
   "execution_count": 2,
   "metadata": {
    "collapsed": false
   },
   "outputs": [
    {
     "data": {
      "text/plain": [
       ":mine"
      ]
     },
     "execution_count": 2,
     "metadata": {},
     "output_type": "execute_result"
    }
   ],
   "source": [
    "module Miner\n",
    "  def mine(message, difficulty_level = 2) # 2 leading zeros\n",
    "    nonce = 0\n",
    "    loop do\n",
    "      hash = OpenSSL::Digest::SHA256.new(message + nonce.to_s).to_s\n",
    "      return [hash, nonce] if hash.start_with? '0' * difficulty_level\n",
    "      nonce += 1\n",
    "    end\n",
    "  end\n",
    "end"
   ]
  },
  {
   "cell_type": "markdown",
   "metadata": {},
   "source": [
    "Time required to mine increases exponentially when difficulty increases. Difficulty would increase according to the moving average of time for each block to be added to the blockchain."
   ]
  },
  {
   "cell_type": "code",
   "execution_count": 3,
   "metadata": {
    "collapsed": false
   },
   "outputs": [
    {
     "name": "stdout",
     "output_type": "stream",
     "text": [
      "[\"00b894f575e9311a064511b37bc5bfd57365980ba9157aaf69afec3fecf8178a\", 5]\n",
      "  0.000000   0.000000   0.000000 (  0.000278)\n",
      "\n",
      "[\"000065a302ba3d5ff98dd372b82ab1837fbbbae10c4576a9b17d778dfda89955\", 61125]\n",
      "  0.210000   0.000000   0.210000 (  0.209329)\n",
      "\n"
     ]
    }
   ],
   "source": [
    "class TestMiner; include Miner; end\n",
    "\n",
    "puts Benchmark.measure { puts TestMiner.new.mine 'bar' }\n",
    "puts Benchmark.measure { puts TestMiner.new.mine 'bar', 4 }\n",
    "# puts Benchmark.measure { puts TestMiner.new.mine 'bar', 6 }"
   ]
  },
  {
   "cell_type": "markdown",
   "metadata": {},
   "source": [
    "## The Block\n",
    "\n",
    "A `block` object should have the following information :\n",
    "\n",
    "- `previous_block` - Previous block on block chain\n",
    "- `transactions` - Transactions within the block\n",
    "- `timetamp` - Timestamp of block creation\n",
    "- `nonce` - Mined nonce\n",
    "- `hash` - Mined hash"
   ]
  },
  {
   "cell_type": "code",
   "execution_count": 4,
   "metadata": {
    "collapsed": false
   },
   "outputs": [
    {
     "data": {
      "text/plain": [
       ":block_message"
      ]
     },
     "execution_count": 4,
     "metadata": {},
     "output_type": "execute_result"
    }
   ],
   "source": [
    "class Block\n",
    "  include Miner\n",
    "  \n",
    "  attr_reader :previous_block, :transactions, :timestamp, :nonce, :hash\n",
    "  \n",
    "  def initialize(transactions, previous_block)\n",
    "    @transactions = transactions\n",
    "    @timestamp = Time.now\n",
    "    @previous_block = previous_block\n",
    "    @hash, @nonce = mine(block_message)\n",
    "  end\n",
    "  \n",
    "  private\n",
    "  def block_message\n",
    "    @transactions.to_s + @timestamp.to_s + @previous_block.hash\n",
    "  end\n",
    "end"
   ]
  },
  {
   "cell_type": "markdown",
   "metadata": {},
   "source": [
    "## The Genesis Block\n",
    "\n",
    "Since `blocks` require a `previous_block`, the first `block` will need a dummy GenesisBlock."
   ]
  },
  {
   "cell_type": "code",
   "execution_count": 5,
   "metadata": {
    "collapsed": false
   },
   "outputs": [
    {
     "data": {
      "text/plain": [
       ":block_message"
      ]
     },
     "execution_count": 5,
     "metadata": {},
     "output_type": "execute_result"
    }
   ],
   "source": [
    "class GenesisBlock < Block\n",
    "  def initialize\n",
    "    @hash, @nonce = mine(block_message)\n",
    "  end\n",
    "  \n",
    "  def genesis_block\n",
    "    true\n",
    "  end\n",
    "  \n",
    "  private\n",
    "  def block_message\n",
    "    'In the beginning God created the heavens and the earth'\n",
    "  end\n",
    "end"
   ]
  },
  {
   "cell_type": "code",
   "execution_count": 6,
   "metadata": {
    "collapsed": false
   },
   "outputs": [
    {
     "name": "stdout",
     "output_type": "stream",
     "text": [
      "[\"00a6d3080b64cf53c882ede4b5ae71fb3af0d2d1bb573ba2a114c216b675172c\", 204]\n",
      "[\"00bf9679ad639167c2f04a2a6b31c317d269e01ce98f607dfb6a50b618f95677\", 72]\n"
     ]
    }
   ],
   "source": [
    "b0 = GenesisBlock.new\n",
    "puts [b0.hash, b0.nonce]\n",
    "\n",
    "b1 = Block.new(['t1', 't2'], b0)\n",
    "puts [b1.hash, b1.nonce]"
   ]
  },
  {
   "cell_type": "markdown",
   "metadata": {},
   "source": [
    "## Wallets\n",
    "\n",
    "Here we're creating a simple coin wallet with a set of Public/Private keys using a 512 bit RSA for Public Key encryption. \n",
    "\n",
    "We'll simply use the an URL safe base64 encoded Public Key as the wallet address."
   ]
  },
  {
   "cell_type": "code",
   "execution_count": 7,
   "metadata": {
    "collapsed": false
   },
   "outputs": [
    {
     "data": {
      "text/plain": [
       "#<Wallet:0x007fc8acb15770 @key=#<OpenSSL::PKey::RSA:0x007fc8acb15720>, @address=\"MFwwDQYJKoZIhvcNAQEBBQADSwAwSAJBANNWPD9DcOayZGfKajEvSiFisJpetK_RHTWPbanTdKm7FlBzOhZUi4tmFtE-WBN6XA_fyebEIhwqMvbohbdRB50CAwEAAQ==\">"
      ]
     },
     "execution_count": 7,
     "metadata": {},
     "output_type": "execute_result"
    }
   ],
   "source": [
    "class Wallet\n",
    "  attr_reader :address\n",
    "  \n",
    "  def initialize\n",
    "    @key = OpenSSL::PKey::RSA.new(512)  # obviously insecure\n",
    "    @address = Base64.urlsafe_encode64(@key.public_key.to_der)\n",
    "  end\n",
    "  \n",
    "  def sign(message)\n",
    "    digest = OpenSSL::Digest::SHA256.new(message)\n",
    "    sig = @key.sign(digest, message)\n",
    "    Base64.urlsafe_encode64(sig)\n",
    "  end\n",
    "end\n",
    "\n",
    "w = Wallet.new\n"
   ]
  },
  {
   "cell_type": "markdown",
   "metadata": {},
   "source": [
    "And then we want to have some helper methods to verify the encryption."
   ]
  },
  {
   "cell_type": "code",
   "execution_count": 8,
   "metadata": {
    "collapsed": false
   },
   "outputs": [
    {
     "data": {
      "text/plain": [
       "#<TestVerifier:0x007fc8acafe930>"
      ]
     },
     "execution_count": 8,
     "metadata": {},
     "output_type": "execute_result"
    }
   ],
   "source": [
    "module PKeyVerifier\n",
    "  def verify(pkey_base64, signature_base64, message)\n",
    "    pkey = Base64.urlsafe_decode64(pkey_base64)\n",
    "    signature = Base64.urlsafe_decode64(signature_base64)\n",
    "    \n",
    "    key =  OpenSSL::PKey::RSA.new(pkey)\n",
    "    digest = OpenSSL::Digest::SHA256.new(message)\n",
    "    key.verify(digest, signature, message)\n",
    "  end\n",
    "end\n",
    "\n",
    "class TestVerifier; include PKeyVerifier; end\n",
    "pkey_verifier = TestVerifier.new"
   ]
  },
  {
   "cell_type": "code",
   "execution_count": 9,
   "metadata": {
    "collapsed": false
   },
   "outputs": [
    {
     "data": {
      "text/plain": [
       "true"
      ]
     },
     "execution_count": 9,
     "metadata": {},
     "output_type": "execute_result"
    }
   ],
   "source": [
    "signature = w.sign('some transaction')\n",
    "assert pkey_verifier.verify(w.address, signature, 'some transaction')"
   ]
  },
  {
   "cell_type": "code",
   "execution_count": 10,
   "metadata": {
    "collapsed": false
   },
   "outputs": [
    {
     "ename": "Minitest::Assertion",
     "evalue": "Message altered",
     "output_type": "error",
     "traceback": [
      "\u001b[31mMinitest::Assertion\u001b[0m: Message altered"
     ]
    }
   ],
   "source": [
    "assert pkey_verifier.verify(w.address, signature, 'some altered transaction'), 'Message altered'"
   ]
  },
  {
   "cell_type": "code",
   "execution_count": 11,
   "metadata": {
    "collapsed": false
   },
   "outputs": [
    {
     "ename": "Minitest::Assertion",
     "evalue": "Message not signed by same wallet",
     "output_type": "error",
     "traceback": [
      "\u001b[31mMinitest::Assertion\u001b[0m: Message not signed by same wallet"
     ]
    }
   ],
   "source": [
    "another_wallet = Wallet.new\n",
    "assert pkey_verifier.verify(another_wallet.address, signature, 'some transaction'), 'Message not signed by same wallet'"
   ]
  },
  {
   "cell_type": "markdown",
   "metadata": {},
   "source": [
    "## Transactions"
   ]
  },
  {
   "cell_type": "markdown",
   "metadata": {
    "collapsed": false
   },
   "source": [
    "A transaction would need to have a `source` wallet, and an instructions of amounts to send to a `destination` wallets. "
   ]
  },
  {
   "cell_type": "code",
   "execution_count": 12,
   "metadata": {
    "collapsed": false
   },
   "outputs": [
    {
     "data": {
      "text/plain": [
       ":initialize"
      ]
     },
     "execution_count": 12,
     "metadata": {},
     "output_type": "execute_result"
    }
   ],
   "source": [
    "class Transaction\n",
    "  attr_reader :source_wallet, :instruction\n",
    "  \n",
    "  def initialize(source_wallet, instructions)\n",
    "    @source_wallet = source_wallet\n",
    "    @instructions = instructions\n",
    "  end\n",
    "end"
   ]
  },
  {
   "cell_type": "markdown",
   "metadata": {},
   "source": [
    "## Transaction Instructions\n",
    "\n",
    "We'll define a class for Transaction Instructions. Each transaction instruction will define the target wallet & the amount to send."
   ]
  },
  {
   "cell_type": "code",
   "execution_count": 13,
   "metadata": {
    "collapsed": false
   },
   "outputs": [
    {
     "data": {
      "text/plain": [
       ":to_hash"
      ]
     },
     "execution_count": 13,
     "metadata": {},
     "output_type": "execute_result"
    }
   ],
   "source": [
    "class Transaction::Instruction\n",
    "  attr_reader :target_wallet, :amount\n",
    "  \n",
    "  def initialize(target_wallet, amount)\n",
    "    @target_wallet = target_wallet\n",
    "    @amount = amount.to_f\n",
    "  end\n",
    "  \n",
    "  def to_hash\n",
    "    { \n",
    "      target:  @target_wallet,\n",
    "      amount: @amount\n",
    "    }\n",
    "  end\n",
    "end"
   ]
  },
  {
   "cell_type": "markdown",
   "metadata": {},
   "source": [
    "So a typical transaction will look more of less like so "
   ]
  },
  {
   "cell_type": "code",
   "execution_count": 14,
   "metadata": {
    "collapsed": false
   },
   "outputs": [],
   "source": [
    "w1 = Wallet.new\n",
    "w2 = Wallet.new\n",
    "\n",
    "t1 = Transaction.new(w1, Transaction::Instruction.new(w2, 25.0))\n",
    "\n",
    "nil  # hide noisy output"
   ]
  },
  {
   "cell_type": "markdown",
   "metadata": {},
   "source": [
    "## Transactions List\n",
    "\n",
    "In a ledger system, all transactions will be a chronologically ordered list. In our case, we'll just add them into a global variable as soon as each transaction is defined."
   ]
  },
  {
   "cell_type": "code",
   "execution_count": 15,
   "metadata": {
    "collapsed": false
   },
   "outputs": [
    {
     "data": {
      "text/plain": [
       ":append_to_transactions_list"
      ]
     },
     "execution_count": 15,
     "metadata": {},
     "output_type": "execute_result"
    }
   ],
   "source": [
    "class Transaction\n",
    "  attr_reader :source_wallet, :instruction\n",
    "  \n",
    "  def initialize(source_wallet, instruction)\n",
    "    @source_wallet = source_wallet\n",
    "    @instruction = instruction\n",
    "    \n",
    "    append_to_transactions_list\n",
    "  end\n",
    "  \n",
    "  def to_hash\n",
    "    {\n",
    "      source: @source_wallet,\n",
    "      instruction: @instruction.to_hash\n",
    "    }\n",
    "  end\n",
    "  \n",
    "  def append_to_transactions_list\n",
    "    $transaction_list << self\n",
    "  end\n",
    "end\n"
   ]
  },
  {
   "cell_type": "markdown",
   "metadata": {
    "collapsed": true
   },
   "source": [
    "Now, according to the Bitcoin whitepaper, each transaction owner should digitally sign a hash of previous transaction with public key of next owner, so that a payee can verify the chain of ownership.\n",
    "\n",
    "To achieve that, we'll need to find the last transaction of the `source` wallet, and use it as create a hash & signature. Time to tweak `Transaction`."
   ]
  },
  {
   "cell_type": "code",
   "execution_count": 16,
   "metadata": {
    "collapsed": false
   },
   "outputs": [
    {
     "data": {
      "text/plain": [
       ":to_hash"
      ]
     },
     "execution_count": 16,
     "metadata": {},
     "output_type": "execute_result"
    }
   ],
   "source": [
    "class Transaction\n",
    "  attr_reader :hash, :signature, :previous_hash\n",
    "  \n",
    "  def initialize(source_wallet, instruction, hash, signature, previous_hash)\n",
    "    @source_wallet = source_wallet\n",
    "    @instruction = instruction\n",
    "    @hash = hash\n",
    "    @signature = signature\n",
    "    @previous_hash = previous_hash\n",
    "    \n",
    "    append_to_transactions_list\n",
    "  end\n",
    "\n",
    "  def to_hash \n",
    "    {\n",
    "      owner: @source_wallet,\n",
    "      instruction: @instruction.to_hash,\n",
    "      hash: @hash,\n",
    "      signature: @signature,\n",
    "      previous_hash: @previous_hash,\n",
    "    }\n",
    "  end\n",
    "  \n",
    "end"
   ]
  },
  {
   "cell_type": "code",
   "execution_count": 17,
   "metadata": {
    "collapsed": false
   },
   "outputs": [
    {
     "data": {
      "text/plain": [
       ":last_wallet_transaction"
      ]
     },
     "execution_count": 17,
     "metadata": {},
     "output_type": "execute_result"
    }
   ],
   "source": [
    "class Wallet\n",
    "  def sign_instruction(instruction)\n",
    "    previous_hash = last_wallet_transaction && last_wallet_transaction.hash\n",
    "    hash_payload  = {\n",
    "      target_address: instruction.target_wallet,\n",
    "      previous_hash: previous_hash,\n",
    "      instruction: instruction.to_hash\n",
    "    }\n",
    "    hash = OpenSSL::Digest::SHA256.new(hash_payload.to_s)\n",
    "    signature = sign(hash.to_s)\n",
    "    \n",
    "    [hash, signature, previous_hash]\n",
    "  end\n",
    "  \n",
    "  def last_wallet_transaction\n",
    "    $transaction_list.select {|t| t.source_wallet == self.address}.last\n",
    "  end\n",
    "end\n"
   ]
  },
  {
   "cell_type": "code",
   "execution_count": 18,
   "metadata": {
    "collapsed": false
   },
   "outputs": [],
   "source": [
    "$transaction_list = []\n",
    "\n",
    "w1 = Wallet.new\n",
    "w2 = Wallet.new\n",
    "w3 = Wallet.new\n",
    "\n",
    "\n",
    "# We'll pretend that $transaction_list is being transferred through the network as the public ledger\n",
    "# Since Transactions will be public, all data stored within should be kosher for public viewing (i.e. no private keys)\n",
    "t1 = Transaction.new(w1.address, i = Transaction::Instruction.new(w2.address, 25.0), *w1.sign_instruction(i))\n",
    "t2 = Transaction.new(w1.address, i = Transaction::Instruction.new(w2.address, 10.0), *w1.sign_instruction(i))\n",
    "t3 = Transaction.new(w2.address, i = Transaction::Instruction.new(w3.address, 5.0), *w2.sign_instruction(i))\n",
    "t4 = Transaction.new(w2.address, i = Transaction::Instruction.new(w3.address, 2.0), *w2.sign_instruction(i))\n",
    "\n",
    "nil  # hide noisy output"
   ]
  },
  {
   "cell_type": "code",
   "execution_count": 19,
   "metadata": {
    "collapsed": false
   },
   "outputs": [
    {
     "name": "stdout",
     "output_type": "stream",
     "text": [
      "Transaction #1: \n",
      "\n",
      "From: \t\t\tN0Mv0nC-ov\n",
      "To: \t\t\t\tK8g_UFeYOR\n",
      "Amount: \t\t25.0\n",
      "Hash: \t\t\t6fdba30ad3547b2c3f41c1a87b7ac83ae06514fef40d76a5bfa16c2139e255a0\n",
      "Signature: \t\tyxqV-scnoW3l9TdgVijV2n9lUqLUruVWTpKUMkCfFQuFYB8XbXr33DzOAWVYI3lCDRO0GJJcy6O-FwlEnq6XEA==\n",
      "Previous Hash: \t\n",
      "----------------------\n",
      "Transaction #2: \n",
      "\n",
      "From: \t\t\tN0Mv0nC-ov\n",
      "To: \t\t\t\tK8g_UFeYOR\n",
      "Amount: \t\t10.0\n",
      "Hash: \t\t\te212617fc52b67816ab62332b2e00a774375d59e48d4e3d6062681a4384789b4\n",
      "Signature: \t\tEx9P4gCWDuW8LgfBpUmbnnbEO_Jj1hKlKqgDJWNqqFGggOW-AV7gRnWif1k-yi_oynRsKqi8XTe0VWQRhUAT4w==\n",
      "Previous Hash: \t6fdba30ad3547b2c3f41c1a87b7ac83ae06514fef40d76a5bfa16c2139e255a0\n",
      "----------------------\n",
      "Transaction #3: \n",
      "\n",
      "From: \t\t\tK8g_UFeYOR\n",
      "To: \t\t\t\tMc-OH89Y7w\n",
      "Amount: \t\t5.0\n",
      "Hash: \t\t\t52ff1e66c1fafacf9394fc83887b531cd2ee48e0e88e1048e84382edd3570030\n",
      "Signature: \t\tgu3kBe46A4m0py638EczwFI1xQbtIJF7WWagCeM876gN8Tr-t9pCiSvGgmIqEOcOX6l0NPR37z2cS33xalB-Eg==\n",
      "Previous Hash: \t\n",
      "----------------------\n",
      "Transaction #4: \n",
      "\n",
      "From: \t\t\tK8g_UFeYOR\n",
      "To: \t\t\t\tMc-OH89Y7w\n",
      "Amount: \t\t2.0\n",
      "Hash: \t\t\t535da1ff8fedbbbdf200a4ffb2cccd77fc19d5c97b4b9d2e6103e01eabd74d9b\n",
      "Signature: \t\tpboaO275N2dNYkOjSc5OSda7nyB9h2zEFnu-ye4fcjjIcAo-hW00-YcCtqdfQuw2SdrtWIhDcePGWhpaKDC4Wg==\n",
      "Previous Hash: \t52ff1e66c1fafacf9394fc83887b531cd2ee48e0e88e1048e84382edd3570030\n",
      "----------------------\n"
     ]
    }
   ],
   "source": [
    "def show_all_transactions\n",
    "  $transaction_list.map(&:to_hash).each_with_index do |t, index|\n",
    "    source_address = t[:owner][33..42]  # for display purposes\n",
    "    target_address = t[:instruction][:target][33..42]  # for display purposes\n",
    "\n",
    "    puts \"Transaction ##{index+1}: \\n\"\n",
    "    puts \"From: \\t\\t\\t#{source_address}\"\n",
    "    puts \"To: \\t\\t\\t\\t#{target_address}\"\n",
    "    puts \"Amount: \\t\\t#{t[:instruction][:amount]}\"\n",
    "    puts \"Hash: \\t\\t\\t#{t[:hash]}\"\n",
    "    puts \"Signature: \\t\\t#{t[:signature]}\"\n",
    "    puts \"Previous Hash: \\t#{t[:previous_hash]}\"\n",
    "    puts \"----------------------\"\n",
    "  end\n",
    "end\n",
    "\n",
    "show_all_transactions\n",
    "\n",
    "nil  # hide noisy output"
   ]
  },
  {
   "cell_type": "markdown",
   "metadata": {},
   "source": [
    "So as the payees, the data integrity can be verified through the signature chains."
   ]
  },
  {
   "cell_type": "code",
   "execution_count": 20,
   "metadata": {
    "collapsed": false
   },
   "outputs": [
    {
     "name": "stdout",
     "output_type": "stream",
     "text": [
      "Transaction #1: \n",
      "\n",
      "From: \t\t\tN0Mv0nC-ov\n",
      "To: \t\t\t\tK8g_UFeYOR\n",
      "Amount: \t\t25.0\n",
      "Hash: \t\t\t6fdba30ad3547b2c3f41c1a87b7ac83ae06514fef40d76a5bfa16c2139e255a0\n",
      "Signature: \t\tyxqV-scnoW3l9TdgVijV2n9lUqLUruVWTpKUMkCfFQuFYB8XbXr33DzOAWVYI3lCDRO0GJJcy6O-FwlEnq6XEA==\n",
      "Previous Hash: \t\n",
      "----------------------\n",
      "Transaction #2: \n",
      "\n",
      "From: \t\t\tN0Mv0nC-ov\n",
      "To: \t\t\t\tK8g_UFeYOR\n",
      "Amount: \t\t10.0\n",
      "Hash: \t\t\te212617fc52b67816ab62332b2e00a774375d59e48d4e3d6062681a4384789b4\n",
      "Signature: \t\tEx9P4gCWDuW8LgfBpUmbnnbEO_Jj1hKlKqgDJWNqqFGggOW-AV7gRnWif1k-yi_oynRsKqi8XTe0VWQRhUAT4w==\n",
      "Previous Hash: \t6fdba30ad3547b2c3f41c1a87b7ac83ae06514fef40d76a5bfa16c2139e255a0\n",
      "----------------------\n",
      "Transaction #3: \n",
      "\n",
      "From: \t\t\tK8g_UFeYOR\n",
      "To: \t\t\t\tMc-OH89Y7w\n",
      "Amount: \t\t5.0\n",
      "Hash: \t\t\t52ff1e66c1fafacf9394fc83887b531cd2ee48e0e88e1048e84382edd3570030\n",
      "Signature: \t\tgu3kBe46A4m0py638EczwFI1xQbtIJF7WWagCeM876gN8Tr-t9pCiSvGgmIqEOcOX6l0NPR37z2cS33xalB-Eg==\n",
      "Previous Hash: \t\n",
      "----------------------\n",
      "Transaction #4: \n",
      "\n",
      "From: \t\t\tK8g_UFeYOR\n",
      "To: \t\t\t\tMc-OH89Y7w\n",
      "Amount: \t\t2.0\n",
      "Hash: \t\t\t535da1ff8fedbbbdf200a4ffb2cccd77fc19d5c97b4b9d2e6103e01eabd74d9b\n",
      "Signature: \t\tpboaO275N2dNYkOjSc5OSda7nyB9h2zEFnu-ye4fcjjIcAo-hW00-YcCtqdfQuw2SdrtWIhDcePGWhpaKDC4Wg==\n",
      "Previous Hash: \t52ff1e66c1fafacf9394fc83887b531cd2ee48e0e88e1048e84382edd3570030\n",
      "----------------------\n"
     ]
    }
   ],
   "source": [
    "class Transaction\n",
    "  include PKeyVerifier\n",
    "\n",
    "  def self.find_transaction(hash)\n",
    "    $transaction_list.find { |t| t.hash == hash }\n",
    "  end\n",
    "  \n",
    "  def verify_all_transactions(transaction_hash = self.hash)\n",
    "    loop do\n",
    "      trx = self.class.find_transaction(transaction_hash)\n",
    "      trx.verify_transaction\n",
    "      \n",
    "      break unless @previous_hash\n",
    "      transaction.verify_all_ancestral_transactions(@previous_hash)\n",
    "    end\n",
    "  end\n",
    "  \n",
    "  def verify_transaction\n",
    "    raise 'Invalid transaction' unless verify(@source_wallet, @signature, recalculate_hash.to_s)\n",
    "  end\n",
    "  \n",
    "  def recalculate_hash\n",
    "    hash_payload = {\n",
    "      target_address: @instruction.target_wallet,\n",
    "      previous_hash: previous_transaction && previous_transaction.hash,\n",
    "      instruction: @instruction.to_hash\n",
    "    }\n",
    "    OpenSSL::Digest::SHA256.new(hash_payload.to_s)\n",
    "  end\n",
    "  \n",
    "  def previous_transaction\n",
    "    self.class.find_transaction(@previous_hash)\n",
    "  end\n",
    "end\n",
    "\n",
    "t1.verify_all_transactions\n",
    "\n",
    "show_all_transactions\n",
    "\n",
    "nil  # hide noisy output"
   ]
  },
  {
   "cell_type": "markdown",
   "metadata": {},
   "source": [
    "Changes to the transaction instructions or target wallets are quickly detectable throughout the chain."
   ]
  },
  {
   "cell_type": "code",
   "execution_count": 21,
   "metadata": {
    "collapsed": false
   },
   "outputs": [
    {
     "ename": "RuntimeError",
     "evalue": "Invalid transaction",
     "output_type": "error",
     "traceback": [
      "\u001b[31mRuntimeError\u001b[0m: Invalid transaction"
     ]
    }
   ],
   "source": [
    "hacker_wallet = Wallet.new\n",
    "\n",
    "t2.instance_variable_set(:@instruction, Transaction::Instruction.new(hacker_wallet.address, 10.0))\n",
    "t2.verify_all_transactions"
   ]
  },
  {
   "cell_type": "markdown",
   "metadata": {},
   "source": [
    "## Tampering with the public ledger\n",
    "\n",
    "It is still possible to alter the transactions within the ledger if those Transactions originated from the attacker's wallet, allowing them to reverse any transactions made by them."
   ]
  },
  {
   "cell_type": "code",
   "execution_count": null,
   "metadata": {
    "collapsed": false
   },
   "outputs": [],
   "source": [
    "$transaction_list = []\n",
    "\n",
    "t1 = Transaction.new(w1.address, i = Transaction::Instruction.new(w2.address, 25.0), *w1.sign_instruction(i))\n",
    "t2 = Transaction.new(w1.address, i = Transaction::Instruction.new(w2.address, 10.0), *w1.sign_instruction(i))\n",
    "t3 = Transaction.new(w2.address, i = Transaction::Instruction.new(w3.address, 5.0), *w2.sign_instruction(i))\n",
    "t4 = Transaction.new(w2.address, i = Transaction::Instruction.new(w3.address, 2.0), *w2.sign_instruction(i))"
   ]
  },
  {
   "cell_type": "markdown",
   "metadata": {},
   "source": [
    "## Why not generate a hash chain using the last transaction?\n",
    "\n",
    "Need more research on this. Let me know if you know the answer :D\n",
    "\n",
    "This will just ensure a totally chronological chain of transactions, and the reversal can only be done before another wallet transaction is added to the end. So why not use one single transaction chain?\n",
    "\n",
    "Maybe, since lots of transactions could be created at any given time, making the last transaction hard to determine. Also it would be too slow for a consensus to made by the entire network to determine which transaction is the last transaction due to the sheer number of transactions made by each node at any given time. \n",
    "\n",
    "Maybe that's why transactions are verified by Blocks instead?"
   ]
  },
  {
   "cell_type": "code",
   "execution_count": null,
   "metadata": {
    "collapsed": true
   },
   "outputs": [],
   "source": []
  }
 ],
 "metadata": {
  "kernelspec": {
   "display_name": "Ruby 2.2.3",
   "language": "ruby",
   "name": "ruby"
  },
  "language_info": {
   "file_extension": ".rb",
   "mimetype": "application/x-ruby",
   "name": "ruby",
   "version": "2.2.3"
  }
 },
 "nbformat": 4,
 "nbformat_minor": 0
}
