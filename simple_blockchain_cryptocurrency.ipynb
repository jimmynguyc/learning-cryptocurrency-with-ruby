{
 "cells": [
  {
   "cell_type": "markdown",
   "metadata": {
    "slideshow": {
     "slide_type": "-"
    }
   },
   "source": [
    "# Simple Cryptocurrency in Ruby\n",
    "\n",
    "This is an attempt to create a proof of concept based on the [Bitcoin whitepaper](https://bitcoin.org/bitcoin.pdf) by Satoshi Nakamoto. \n",
    "\n",
    "## References\n",
    "\n",
    "- [Bitcoin whitepaper](https://bitcoin.org/bitcoin.pdf)\n",
    "- [Dumbcoin](https://github.com/julienr/ipynb_playground/blob/master/bitcoin/dumbcoin/dumbcoin.ipynb) by julienr\n",
    "- [blockchain.rb - Build your own blockchain from scratch in 20 lines of ruby](https://github.com/openblockchains/awesome-blockchains/tree/master/blockchain.rb) by openblockchains\n",
    "- [Bitcoin wiki](https://en.bitcoin.it/wiki/Main_Page)\n",
    "\n",
    "## Disclaimer\n",
    "\n",
    "There will most likely be A LOT of things wrong & insecure in this implementation."
   ]
  },
  {
   "cell_type": "code",
   "execution_count": 1,
   "metadata": {
    "collapsed": false,
    "slideshow": {
     "slide_type": "-"
    }
   },
   "outputs": [
    {
     "data": {
      "text/plain": [
       ":error_message"
      ]
     },
     "execution_count": 1,
     "metadata": {},
     "output_type": "execute_result"
    }
   ],
   "source": [
    "require 'openssl'\n",
    "require 'minitest'\n",
    "require 'benchmark'\n",
    "require 'base64'\n",
    "\n",
    "# Enable assertions outside of Minitest::Test \n",
    "include Minitest::Assertions\n",
    "Object.class_eval do\n",
    "  attr_accessor :assertions\n",
    "end\n",
    "self.assertions = 0\n",
    "\n",
    "# Override IRuby::Kernal to hide backtrace from display\n",
    "# https://github.com/SciRuby/iruby/blob/master/lib/iruby/kernel.rb\n",
    "IRuby::Kernel.class_eval do\n",
    "  def error_message(e)\n",
    "    { status: :error,\n",
    "        ename: e.class.to_s,\n",
    "        evalue: e.message,\n",
    "        traceback: [\"\\e[31m#{e.class}\\e[0m: #{e.message}\"],\n",
    "        execution_count: @execution_count }\n",
    "    end\n",
    "end\n"
   ]
  },
  {
   "cell_type": "markdown",
   "metadata": {},
   "source": [
    "## The Wallet\n",
    "\n",
    "Here we're creating a simple coin wallet with a set of Public/Private keys using a 512 bit RSA for Public Key encryption. \n",
    "\n",
    "We'll simply use the an URL safe base64 encoded Public Key as the wallet address."
   ]
  },
  {
   "cell_type": "code",
   "execution_count": 2,
   "metadata": {
    "collapsed": false
   },
   "outputs": [
    {
     "data": {
      "text/plain": [
       "#<Wallet:0x007fdbae2dabb8 @key=#<OpenSSL::PKey::RSA:0x007fdbae2dab18>, @address=\"MFwwDQYJKoZIhvcNAQEBBQADSwAwSAJBAMWcCrgnTrZDAz3rEdTRWSn2ihXiHf4KGw8XSpdH35Dtynf-tuh1_Zwtm-n9-CzPNInmaK2LU4U6NesAHgeOJlUCAwEAAQ==\">"
      ]
     },
     "execution_count": 2,
     "metadata": {},
     "output_type": "execute_result"
    }
   ],
   "source": [
    "class Wallet\n",
    "  attr_reader :address\n",
    "  \n",
    "  def initialize\n",
    "    @key = OpenSSL::PKey::RSA.new(512)  # obviously insecure\n",
    "    @address = Base64.urlsafe_encode64(@key.public_key.to_der)\n",
    "  end\n",
    "  \n",
    "  def sign(message)\n",
    "    digest = OpenSSL::Digest::SHA256.new(message)\n",
    "    sig = @key.sign(digest, message)\n",
    "    Base64.urlsafe_encode64(sig)\n",
    "  end\n",
    "end\n",
    "\n",
    "w = Wallet.new\n"
   ]
  },
  {
   "cell_type": "markdown",
   "metadata": {},
   "source": [
    "And then we want to have some helper methods to verify the encryption."
   ]
  },
  {
   "cell_type": "code",
   "execution_count": 3,
   "metadata": {
    "collapsed": false
   },
   "outputs": [
    {
     "data": {
      "text/plain": [
       "#<TestVerifier:0x007fdbae2b14c0>"
      ]
     },
     "execution_count": 3,
     "metadata": {},
     "output_type": "execute_result"
    }
   ],
   "source": [
    "module PKeyVerifier\n",
    "  def verify(pkey_base64, signature_base64, message)\n",
    "    pkey = Base64.urlsafe_decode64(pkey_base64)\n",
    "    signature = Base64.urlsafe_decode64(signature_base64)\n",
    "    \n",
    "    key =  OpenSSL::PKey::RSA.new(pkey)\n",
    "    digest = OpenSSL::Digest::SHA256.new(message)\n",
    "    key.verify(digest, signature, message)\n",
    "  end\n",
    "end\n",
    "\n",
    "class TestVerifier; include PKeyVerifier; end\n",
    "pkey_verifier = TestVerifier.new"
   ]
  },
  {
   "cell_type": "code",
   "execution_count": 4,
   "metadata": {
    "collapsed": false
   },
   "outputs": [
    {
     "data": {
      "text/plain": [
       "true"
      ]
     },
     "execution_count": 4,
     "metadata": {},
     "output_type": "execute_result"
    }
   ],
   "source": [
    "signature = w.sign('some transaction')\n",
    "assert pkey_verifier.verify(w.address, signature, 'some transaction')"
   ]
  },
  {
   "cell_type": "code",
   "execution_count": 5,
   "metadata": {
    "collapsed": false
   },
   "outputs": [
    {
     "ename": "Minitest::Assertion",
     "evalue": "Message altered",
     "output_type": "error",
     "traceback": [
      "\u001b[31mMinitest::Assertion\u001b[0m: Message altered"
     ]
    }
   ],
   "source": [
    "assert pkey_verifier.verify(w.address, signature, 'some altered transaction'), 'Message altered'"
   ]
  },
  {
   "cell_type": "code",
   "execution_count": 6,
   "metadata": {
    "collapsed": false
   },
   "outputs": [
    {
     "ename": "Minitest::Assertion",
     "evalue": "Message not signed by same wallet",
     "output_type": "error",
     "traceback": [
      "\u001b[31mMinitest::Assertion\u001b[0m: Message not signed by same wallet"
     ]
    }
   ],
   "source": [
    "another_wallet = Wallet.new\n",
    "assert pkey_verifier.verify(another_wallet.address, signature, 'some transaction'), 'Message not signed by same wallet'"
   ]
  },
  {
   "cell_type": "markdown",
   "metadata": {},
   "source": [
    "## The Transaction\n",
    "\n",
    "A transaction would need to have a `source` wallet, and an instructions of amounts to send to a `destination` wallets. "
   ]
  },
  {
   "cell_type": "code",
   "execution_count": 7,
   "metadata": {
    "collapsed": false
   },
   "outputs": [
    {
     "data": {
      "text/plain": [
       ":initialize"
      ]
     },
     "execution_count": 7,
     "metadata": {},
     "output_type": "execute_result"
    }
   ],
   "source": [
    "class Transaction\n",
    "  attr_reader :source_wallet, :instruction\n",
    "  \n",
    "  def initialize(source_wallet, instructions)\n",
    "    @source_wallet = source_wallet\n",
    "    @instructions = instructions\n",
    "  end\n",
    "end"
   ]
  },
  {
   "cell_type": "markdown",
   "metadata": {},
   "source": [
    "## The Transaction Instruction\n",
    "\n",
    "We'll define a class for Transaction Instructions. Each transaction instruction will define the target wallet & the amount to send."
   ]
  },
  {
   "cell_type": "code",
   "execution_count": 8,
   "metadata": {
    "collapsed": false
   },
   "outputs": [
    {
     "data": {
      "text/plain": [
       ":to_hash"
      ]
     },
     "execution_count": 8,
     "metadata": {},
     "output_type": "execute_result"
    }
   ],
   "source": [
    "class Transaction::Instruction\n",
    "  attr_reader :target_wallet, :amount\n",
    "  \n",
    "  def initialize(target_wallet, amount)\n",
    "    @target_wallet = target_wallet\n",
    "    @amount = amount.to_f\n",
    "  end\n",
    "  \n",
    "  def to_hash\n",
    "    { \n",
    "      target:  @target_wallet,\n",
    "      amount: @amount\n",
    "    }\n",
    "  end\n",
    "end"
   ]
  },
  {
   "cell_type": "markdown",
   "metadata": {},
   "source": [
    "So a typical transaction will look more of less like so "
   ]
  },
  {
   "cell_type": "code",
   "execution_count": 9,
   "metadata": {
    "collapsed": false
   },
   "outputs": [],
   "source": [
    "w1 = Wallet.new\n",
    "w2 = Wallet.new\n",
    "\n",
    "t1 = Transaction.new(w1, Transaction::Instruction.new(w2, 25.0))\n",
    "\n",
    "nil  # hide noisy output"
   ]
  },
  {
   "cell_type": "markdown",
   "metadata": {},
   "source": [
    "## Transactions List\n",
    "\n",
    "In a ledger system, all transactions will be a chronologically ordered list. In our case, we'll just add them into a global variable as soon as each transaction is defined."
   ]
  },
  {
   "cell_type": "code",
   "execution_count": 10,
   "metadata": {
    "collapsed": false
   },
   "outputs": [
    {
     "data": {
      "text/plain": [
       ":append_to_transactions_list"
      ]
     },
     "execution_count": 10,
     "metadata": {},
     "output_type": "execute_result"
    }
   ],
   "source": [
    "class Transaction\n",
    "  attr_reader :source_wallet, :instruction\n",
    "  \n",
    "  def initialize(source_wallet, instruction)\n",
    "    @source_wallet = source_wallet\n",
    "    @instruction = instruction\n",
    "    \n",
    "    append_to_transactions_list\n",
    "  end\n",
    "  \n",
    "  def to_hash\n",
    "    {\n",
    "      source: @source_wallet,\n",
    "      instruction: @instruction.to_hash\n",
    "    }\n",
    "  end\n",
    "  \n",
    "  def append_to_transactions_list\n",
    "    $transaction_list = [] if $transaction_list.nil?\n",
    "    $transaction_list << self\n",
    "  end\n",
    "end\n"
   ]
  },
  {
   "cell_type": "markdown",
   "metadata": {
    "collapsed": true
   },
   "source": [
    "Now, according to the Bitcoin whitepaper, each transaction owner should digitally sign a hash of previous transaction with public key of next owner, so that a payee can verify the chain of ownership.\n",
    "\n",
    "To achieve that, we'll need to find the last transaction of the `source` wallet, and use it as create a hash & signature. Time to tweak `Wallet`."
   ]
  },
  {
   "cell_type": "code",
   "execution_count": 11,
   "metadata": {
    "collapsed": false
   },
   "outputs": [
    {
     "data": {
      "text/plain": [
       ":last_wallet_transaction"
      ]
     },
     "execution_count": 11,
     "metadata": {},
     "output_type": "execute_result"
    }
   ],
   "source": [
    "class Wallet\n",
    "  def sign_instruction(instruction)\n",
    "    previous_hash = last_wallet_transaction && last_wallet_transaction.hash\n",
    "    hash_payload  = {\n",
    "      target_address: instruction.target_wallet,\n",
    "      previous_hash: previous_hash,\n",
    "      instruction: instruction.to_hash\n",
    "    }\n",
    "    hash = OpenSSL::Digest::SHA256.new(hash_payload.to_s)\n",
    "    signature = sign(hash.to_s)\n",
    "    \n",
    "    [hash, signature, previous_hash]\n",
    "  end\n",
    "  \n",
    "  def last_wallet_transaction\n",
    "    $transaction_list.select {|t| t.source_wallet == self.address || t.instruction.target_wallet == self.address }.last\n",
    "  end\n",
    "end\n"
   ]
  },
  {
   "cell_type": "code",
   "execution_count": 12,
   "metadata": {
    "collapsed": false
   },
   "outputs": [
    {
     "data": {
      "text/plain": [
       ":to_hash"
      ]
     },
     "execution_count": 12,
     "metadata": {},
     "output_type": "execute_result"
    }
   ],
   "source": [
    "class Transaction\n",
    "  attr_reader :hash, :signature, :previous_hash\n",
    "  \n",
    "  def initialize(source_wallet, instruction, hash, signature, previous_hash)\n",
    "    @source_wallet = source_wallet\n",
    "    @instruction = instruction\n",
    "    @hash = hash\n",
    "    @signature = signature\n",
    "    @previous_hash = previous_hash\n",
    "    \n",
    "    append_to_transactions_list\n",
    "  end\n",
    "\n",
    "  def to_hash \n",
    "    {\n",
    "      owner: @source_wallet,\n",
    "      instruction: @instruction.to_hash,\n",
    "      hash: @hash,\n",
    "      signature: @signature,\n",
    "      previous_hash: @previous_hash,\n",
    "    }\n",
    "  end\n",
    "  \n",
    "end"
   ]
  },
  {
   "cell_type": "code",
   "execution_count": 13,
   "metadata": {
    "collapsed": false
   },
   "outputs": [
    {
     "data": {
      "text/plain": [
       "#<Wallet:0x007fdbae1096e0 @key=#<OpenSSL::PKey::RSA:0x007fdbae1096b8>, @address=\"MFwwDQYJKoZIhvcNAQEBBQADSwAwSAJBAJ6WJ2PrzgSz1zVVB4YxS94CXPr5jnmTtxc3ulhlPhH1MGYby5KGSvrQFWStNzHgMxy3APELqf9GO-NRK3pDtd0CAwEAAQ==\">"
      ]
     },
     "execution_count": 13,
     "metadata": {},
     "output_type": "execute_result"
    }
   ],
   "source": [
    "$transaction_list = []\n",
    "\n",
    "w1 = Wallet.new\n",
    "w2 = Wallet.new\n",
    "w3 = Wallet.new"
   ]
  },
  {
   "cell_type": "markdown",
   "metadata": {},
   "source": [
    "We'll pretend that `$transaction_list` is being transferred through the network as the public ledger. Since `Transaction` data will be public, all data stored within should be kosher for public viewing (i.e. no private keys)."
   ]
  },
  {
   "cell_type": "code",
   "execution_count": 14,
   "metadata": {
    "collapsed": false
   },
   "outputs": [],
   "source": [
    "t1 = Transaction.new(w1.address, i = Transaction::Instruction.new(w2.address, 25.0), *w1.sign_instruction(i))\n",
    "t2 = Transaction.new(w1.address, i = Transaction::Instruction.new(w2.address, 10.0), *w1.sign_instruction(i))\n",
    "t3 = Transaction.new(w2.address, i = Transaction::Instruction.new(w3.address, 5.0), *w2.sign_instruction(i))\n",
    "t4 = Transaction.new(w2.address, i = Transaction::Instruction.new(w3.address, 2.0), *w2.sign_instruction(i))\n",
    "\n",
    "nil  # hide noisy output"
   ]
  },
  {
   "cell_type": "markdown",
   "metadata": {},
   "source": [
    "Let's make a simple inspection function for all transctions."
   ]
  },
  {
   "cell_type": "code",
   "execution_count": 15,
   "metadata": {
    "collapsed": false
   },
   "outputs": [
    {
     "name": "stdout",
     "output_type": "stream",
     "text": [
      "Transaction #1: \n",
      "\n",
      "From: \t\t\tJ5N_cE_-gv\n",
      "To: \t\t\t\tMfI1GmXk74\n",
      "Amount: \t\t25.0\n",
      "Hash: \t\t\tf879e87b17ea08da49b3c09dde3c412d9309fb678619f0e58b10a0e766b86739\n",
      "Signature: \t\tNmeyWnOZ1FB6P1bbSD7JU9zknvceFdrs66s4b22KJMzLoYBFOrSlFxiaxZtis3adltbspGBa2M4CxXhF3UtNVg==\n",
      "Previous Hash: \t\n",
      "----------------------\n",
      "\n",
      "Transaction #2: \n",
      "\n",
      "From: \t\t\tJ5N_cE_-gv\n",
      "To: \t\t\t\tMfI1GmXk74\n",
      "Amount: \t\t10.0\n",
      "Hash: \t\t\t54c4dfd4f8ef63b07d82e87770dcfbb1de5d7bf777ae0c82d41a304094729805\n",
      "Signature: \t\tRvcgR1OcnyFxfeWgwb0IxGSUiacNAHvMOWF2D8feHSQfBtfNnxX0pSHxS4gka3w_r8jEseHn_zthDAYz8uB5kg==\n",
      "Previous Hash: \tf879e87b17ea08da49b3c09dde3c412d9309fb678619f0e58b10a0e766b86739\n",
      "----------------------\n",
      "\n",
      "Transaction #3: \n",
      "\n",
      "From: \t\t\tMfI1GmXk74\n",
      "To: \t\t\t\tJ6WJ2PrzgS\n",
      "Amount: \t\t5.0\n",
      "Hash: \t\t\ta306f064d155f4559fade8c6ec12df639033ee8146461639bc55b93d41aebc08\n",
      "Signature: \t\tWqvIe7cb3EFTa428ZMGwtXwGpQDf4gcQwQ81uvnuj3iHvC1NuFcvBatdV13O4K_UKllQV51KqpI3zxnW07HYuw==\n",
      "Previous Hash: \t54c4dfd4f8ef63b07d82e87770dcfbb1de5d7bf777ae0c82d41a304094729805\n",
      "----------------------\n",
      "\n",
      "Transaction #4: \n",
      "\n",
      "From: \t\t\tMfI1GmXk74\n",
      "To: \t\t\t\tJ6WJ2PrzgS\n",
      "Amount: \t\t2.0\n",
      "Hash: \t\t\tcb043fb6f29399a6b09671497dfdc507c3f6ee1ef7a7b0a048ed81a687312f19\n",
      "Signature: \t\tqtEyNXESxpGRcEUr9S8bQ_njcvjnF-ZCRnIFhdC94cSu80A0Q8drqiL33rlxlCskvOHCwo1_aWHyOP8DcLGrtA==\n",
      "Previous Hash: \ta306f064d155f4559fade8c6ec12df639033ee8146461639bc55b93d41aebc08\n",
      "----------------------\n",
      "\n"
     ]
    }
   ],
   "source": [
    "def inspect_all_transactions\n",
    "  $transaction_list.map(&:to_hash).each_with_index do |t, index|\n",
    "    source_address = t[:owner][33..42]  # for display purposes\n",
    "    target_address = t[:instruction][:target][33..42]  # for display purposes\n",
    "\n",
    "    puts \"Transaction ##{index+1}: \\n\"\n",
    "    puts \"From: \\t\\t\\t#{source_address}\"\n",
    "    puts \"To: \\t\\t\\t\\t#{target_address}\"\n",
    "    puts \"Amount: \\t\\t#{t[:instruction][:amount]}\"\n",
    "    puts \"Hash: \\t\\t\\t#{t[:hash]}\"\n",
    "    puts \"Signature: \\t\\t#{t[:signature]}\"\n",
    "    puts \"Previous Hash: \\t#{t[:previous_hash]}\"\n",
    "    puts \"----------------------\\n\"\n",
    "  end\n",
    "end\n",
    "\n",
    "inspect_all_transactions\n",
    "\n",
    "nil  # hide noisy output"
   ]
  },
  {
   "cell_type": "markdown",
   "metadata": {},
   "source": [
    "So as the payees, the data integrity can be verified through the signature chains."
   ]
  },
  {
   "cell_type": "code",
   "execution_count": 16,
   "metadata": {
    "collapsed": false
   },
   "outputs": [
    {
     "data": {
      "text/plain": [
       "true"
      ]
     },
     "execution_count": 16,
     "metadata": {},
     "output_type": "execute_result"
    }
   ],
   "source": [
    "class Transaction\n",
    "  include PKeyVerifier\n",
    "\n",
    "  def self.find_transaction(hash)\n",
    "    $transaction_list.find { |t| t.hash == hash }\n",
    "  end\n",
    "  \n",
    "  def verify_self_and_ancestors\n",
    "    ancestor_valid = true\n",
    "    \n",
    "    if @previous_hash\n",
    "      # check validity of previous transaction, and fail if transaction is missing\n",
    "      ancestor_valid = (previous_transaction && previous_transaction.verify_self_and_ancestors ) || false  \n",
    "    end\n",
    "  \n",
    "    ancestor_valid && verify_transaction\n",
    "  end\n",
    "  \n",
    "  def verify_transaction\n",
    "    verify(@source_wallet, @signature, recalculate_hash.to_s)\n",
    "  end\n",
    "  \n",
    "  def recalculate_hash\n",
    "    hash_payload = {\n",
    "      target_address: @instruction.target_wallet,\n",
    "      previous_hash: previous_transaction && previous_transaction.hash,\n",
    "      instruction: @instruction.to_hash\n",
    "    }\n",
    "    OpenSSL::Digest::SHA256.new(hash_payload.to_s)\n",
    "  end\n",
    "  \n",
    "  def previous_transaction\n",
    "    self.class.find_transaction(@previous_hash)\n",
    "  end\n",
    "end\n",
    "\n",
    "assert t1.verify_self_and_ancestors"
   ]
  },
  {
   "cell_type": "markdown",
   "metadata": {},
   "source": [
    "Changes to the transaction instructions or target wallets are quickly detectable throughout the chain."
   ]
  },
  {
   "cell_type": "code",
   "execution_count": 17,
   "metadata": {
    "collapsed": false
   },
   "outputs": [
    {
     "ename": "Minitest::Assertion",
     "evalue": "Problem with ancestral transaction",
     "output_type": "error",
     "traceback": [
      "\u001b[31mMinitest::Assertion\u001b[0m: Problem with ancestral transaction"
     ]
    }
   ],
   "source": [
    "hacker_wallet = Wallet.new\n",
    "\n",
    "t2.instance_variable_set(:@instruction, Transaction::Instruction.new(hacker_wallet.address, 10.0))\n",
    "\n",
    "assert t2.verify_self_and_ancestors, 'Problem with ancestral transaction'"
   ]
  },
  {
   "cell_type": "markdown",
   "metadata": {
    "collapsed": true
   },
   "source": [
    "## Blocks\n",
    "\n",
    "Now that we have a way to create and verify transactions, it's time to build the block mechanism that would mine and distribute the transactions throughout the network."
   ]
  },
  {
   "cell_type": "markdown",
   "metadata": {},
   "source": [
    "### Simple Miner\n",
    "\n",
    "The miner takes in a message & finds a `nonce` that satisfies a difficulty level"
   ]
  },
  {
   "cell_type": "code",
   "execution_count": 18,
   "metadata": {
    "collapsed": false
   },
   "outputs": [
    {
     "data": {
      "text/plain": [
       ":mine"
      ]
     },
     "execution_count": 18,
     "metadata": {},
     "output_type": "execute_result"
    }
   ],
   "source": [
    "module Miner\n",
    "  def mine(message, difficulty_level = 2) # 2 leading zeros\n",
    "    nonce = 0\n",
    "    loop do\n",
    "      hash = OpenSSL::Digest::SHA256.new(message + nonce.to_s).to_s\n",
    "      return [hash, nonce] if hash.start_with? '0' * difficulty_level\n",
    "      nonce += 1\n",
    "    end\n",
    "  end\n",
    "end\n"
   ]
  },
  {
   "cell_type": "markdown",
   "metadata": {},
   "source": [
    "Time required to mine increases exponentially when difficulty increases. Difficulty would increase according to the moving average of time for each block to be added to the blockchain."
   ]
  },
  {
   "cell_type": "code",
   "execution_count": 19,
   "metadata": {
    "collapsed": false
   },
   "outputs": [
    {
     "name": "stdout",
     "output_type": "stream",
     "text": [
      "[\"00b894f575e9311a064511b37bc5bfd57365980ba9157aaf69afec3fecf8178a\", 5]\n",
      "  0.000000   0.000000   0.000000 (  0.000189)\n",
      "\n",
      "[\"000065a302ba3d5ff98dd372b82ab1837fbbbae10c4576a9b17d778dfda89955\", 61125]\n",
      "  0.190000   0.000000   0.190000 (  0.202789)\n",
      "\n"
     ]
    }
   ],
   "source": [
    "class TestMiner; include Miner; end\n",
    "\n",
    "puts Benchmark.measure { puts TestMiner.new.mine 'bar' }\n",
    "puts Benchmark.measure { puts TestMiner.new.mine 'bar', 4 }\n",
    "# puts Benchmark.measure { puts TestMiner.new.mine 'bar', 6 }\n"
   ]
  },
  {
   "cell_type": "markdown",
   "metadata": {},
   "source": [
    "So now let's build a `Block`. A `Block` needs to know some info of the last `Block`, and also a list of `transaction`s to mine.\n"
   ]
  },
  {
   "cell_type": "code",
   "execution_count": 29,
   "metadata": {
    "collapsed": false
   },
   "outputs": [
    {
     "data": {
      "text/plain": [
       ":add_to_blockchain"
      ]
     },
     "execution_count": 29,
     "metadata": {},
     "output_type": "execute_result"
    }
   ],
   "source": [
    "$blockchain = []\n",
    "$mining_difficulty = 2\n",
    "\n",
    "class Block\n",
    "  include Miner\n",
    "  attr_accessor :nonce, :hash, :previous_block_hash\n",
    "  \n",
    "  def initialize(transactions)\n",
    "    @transactions = transactions\n",
    "    @previous_block = $blockchain.last\n",
    "    @previous_block_hash = @previous_block && @previous_block.hash || ''\n",
    "    mine_transactions\n",
    "    add_to_blockchain\n",
    "  end\n",
    "  \n",
    "  def mine_transactions\n",
    "    transactions_hash = @transactions.map(&:to_hash).join\n",
    "\n",
    "    message = previous_block_hash + transactions_hash\n",
    "    @hash, @nonce = mine(message, $mining_difficulty)\n",
    "  end\n",
    "  \n",
    "  def add_to_blockchain\n",
    "    $blockchain << self\n",
    "  end\n",
    "end"
   ]
  },
  {
   "cell_type": "markdown",
   "metadata": {},
   "source": [
    "Helper function to inspect the blockchain"
   ]
  },
  {
   "cell_type": "code",
   "execution_count": 37,
   "metadata": {
    "collapsed": false
   },
   "outputs": [
    {
     "data": {
      "text/plain": [
       ":inspect_all_blocks"
      ]
     },
     "execution_count": 37,
     "metadata": {},
     "output_type": "execute_result"
    }
   ],
   "source": [
    "def inspect_all_blocks\n",
    "  $blockchain.each_with_index do |b, index|\n",
    "    puts \"Block ##{index+1}: \\n\"\n",
    "    puts \"Previous Hash: \\t#{b.previous_block_hash}\"\n",
    "    puts \"Nonce: \\t\\t\\t#{b.nonce}\"\n",
    "    puts \"Hash: \\t\\t\\t#{b.hash}\"\n",
    "    puts \"----------------------\\n\"\n",
    "  end\n",
    "end"
   ]
  },
  {
   "cell_type": "code",
   "execution_count": 31,
   "metadata": {
    "collapsed": false
   },
   "outputs": [
    {
     "name": "stdout",
     "output_type": "stream",
     "text": [
      "Transaction #1: \n",
      "\n",
      "From: \t\t\tJ5N_cE_-gv\n",
      "To: \t\t\t\tMfI1GmXk74\n",
      "Amount: \t\t25.0\n",
      "Hash: \t\t\tf879e87b17ea08da49b3c09dde3c412d9309fb678619f0e58b10a0e766b86739\n",
      "Signature: \t\tNmeyWnOZ1FB6P1bbSD7JU9zknvceFdrs66s4b22KJMzLoYBFOrSlFxiaxZtis3adltbspGBa2M4CxXhF3UtNVg==\n",
      "Previous Hash: \t\n",
      "----------------------\n",
      "\n",
      "Transaction #2: \n",
      "\n",
      "From: \t\t\tJ5N_cE_-gv\n",
      "To: \t\t\t\tMfI1GmXk74\n",
      "Amount: \t\t10.0\n",
      "Hash: \t\t\t54c4dfd4f8ef63b07d82e87770dcfbb1de5d7bf777ae0c82d41a304094729805\n",
      "Signature: \t\tRvcgR1OcnyFxfeWgwb0IxGSUiacNAHvMOWF2D8feHSQfBtfNnxX0pSHxS4gka3w_r8jEseHn_zthDAYz8uB5kg==\n",
      "Previous Hash: \tf879e87b17ea08da49b3c09dde3c412d9309fb678619f0e58b10a0e766b86739\n",
      "----------------------\n",
      "\n",
      "Transaction #3: \n",
      "\n",
      "From: \t\t\tMfI1GmXk74\n",
      "To: \t\t\t\tJ6WJ2PrzgS\n",
      "Amount: \t\t5.0\n",
      "Hash: \t\t\ta306f064d155f4559fade8c6ec12df639033ee8146461639bc55b93d41aebc08\n",
      "Signature: \t\tWqvIe7cb3EFTa428ZMGwtXwGpQDf4gcQwQ81uvnuj3iHvC1NuFcvBatdV13O4K_UKllQV51KqpI3zxnW07HYuw==\n",
      "Previous Hash: \t54c4dfd4f8ef63b07d82e87770dcfbb1de5d7bf777ae0c82d41a304094729805\n",
      "----------------------\n",
      "\n",
      "Transaction #4: \n",
      "\n",
      "From: \t\t\tMfI1GmXk74\n",
      "To: \t\t\t\tJ6WJ2PrzgS\n",
      "Amount: \t\t2.0\n",
      "Hash: \t\t\tcb043fb6f29399a6b09671497dfdc507c3f6ee1ef7a7b0a048ed81a687312f19\n",
      "Signature: \t\tqtEyNXESxpGRcEUr9S8bQ_njcvjnF-ZCRnIFhdC94cSu80A0Q8drqiL33rlxlCskvOHCwo1_aWHyOP8DcLGrtA==\n",
      "Previous Hash: \ta306f064d155f4559fade8c6ec12df639033ee8146461639bc55b93d41aebc08\n",
      "----------------------\n",
      "\n"
     ]
    }
   ],
   "source": [
    "$transaction_list = []\n",
    "\n",
    "t1 = Transaction.new(w1.address, i = Transaction::Instruction.new(w2.address, 25.0), *w1.sign_instruction(i))\n",
    "t2 = Transaction.new(w1.address, i = Transaction::Instruction.new(w2.address, 10.0), *w1.sign_instruction(i))\n",
    "t3 = Transaction.new(w2.address, i = Transaction::Instruction.new(w3.address, 5.0), *w2.sign_instruction(i))\n",
    "t4 = Transaction.new(w2.address, i = Transaction::Instruction.new(w3.address, 2.0), *w2.sign_instruction(i))\n",
    "\n",
    "inspect_all_transactions\n",
    "\n",
    "nil # nide noisy output"
   ]
  },
  {
   "cell_type": "code",
   "execution_count": 38,
   "metadata": {
    "collapsed": false
   },
   "outputs": [
    {
     "name": "stdout",
     "output_type": "stream",
     "text": [
      "Block #1: \n",
      "\n",
      "Previous Hash: \t\n",
      "Nonce: \t\t\t272\n",
      "Hash: \t\t\t0031354ae11f8538c2c974c811b58185ec90a1d164ef03058f5c9f40a24c5946\n",
      "----------------------\n",
      "\n",
      "Block #2: \n",
      "\n",
      "Previous Hash: \t0031354ae11f8538c2c974c811b58185ec90a1d164ef03058f5c9f40a24c5946\n",
      "Nonce: \t\t\t102\n",
      "Hash: \t\t\t00d50dfdb614da56d02c8276829b187433af6da43e7b34476ca4988a25acd30d\n",
      "----------------------\n",
      "\n"
     ]
    }
   ],
   "source": [
    "$blockchain = []\n",
    "\n",
    "Block.new([t1, t2])\n",
    "Block.new([t3, t4])\n",
    "\n",
    "inspect_all_blocks\n",
    "\n",
    "nil # nide noisy output"
   ]
  },
  {
   "cell_type": "markdown",
   "metadata": {},
   "source": [
    "## Tampering with the transactions\n",
    "\n",
    "### Reversing transactions\n",
    "\n",
    "It is still possible to alter the transactions within the ledger if those Transactions originated from the attacker's wallet, since they can re-sign the hashes, allowing them to reverse any transactions made by them."
   ]
  },
  {
   "cell_type": "code",
   "execution_count": 21,
   "metadata": {
    "collapsed": false
   },
   "outputs": [],
   "source": [
    "$transaction_list = []\n",
    "\n",
    "t1 = Transaction.new(hacker_wallet.address, i = Transaction::Instruction.new(w2.address, 25.0), *hacker_wallet.sign_instruction(i))\n",
    "t2 = Transaction.new(hacker_wallet.address, i = Transaction::Instruction.new(w2.address, 10.0), *hacker_wallet.sign_instruction(i))\n",
    "\n",
    "nil  # hide noisy output"
   ]
  },
  {
   "cell_type": "markdown",
   "metadata": {},
   "source": [
    "A hacker can easily manipulate the stored hash by resigning all their transactions."
   ]
  },
  {
   "cell_type": "code",
   "execution_count": 22,
   "metadata": {
    "collapsed": false
   },
   "outputs": [],
   "source": [
    "def hacker_wallet.l33t_sign_instruction(instruction, current_transaction)\n",
    "  # getting the previous transaction instead of the last one on the chain like normal\n",
    "  previous_hash = current_transaction.previous_hash\n",
    "  \n",
    "  hash_payload  = {\n",
    "    target_address: instruction.target_wallet,\n",
    "    previous_hash: previous_hash,\n",
    "    instruction: instruction.to_hash\n",
    "  }\n",
    "  hash = OpenSSL::Digest::SHA256.new(hash_payload.to_s)\n",
    "  signature = sign(hash.to_s)\n",
    "\n",
    "  [hash, signature, previous_hash]\n",
    "end\n",
    "\n",
    "# Reversing 25.0 transfer to w2\n",
    "i = Transaction::Instruction.new(t1.instruction.target_wallet, 0.0)\n",
    "hash, signature, previous_hash = hacker_wallet.l33t_sign_instruction(i, t1)\n",
    "t1.instance_variable_set(:@instruction, i)\n",
    "t1.instance_variable_set(:@hash, hash)\n",
    "t1.instance_variable_set(:@signature, signature)\n",
    "\n",
    "# Update t2's previous_hash\n",
    "t2.instance_variable_set(:@previous_hash, hash)\n",
    "\n",
    "# Recalculate hash for all later transactions\n",
    "i = Transaction::Instruction.new(t2.instruction.target_wallet, t2.instruction.amount)\n",
    "hash, signature, previous_hash = hacker_wallet.l33t_sign_instruction(i, t2)\n",
    "t2.instance_variable_set(:@hash, hash)\n",
    "t2.instance_variable_set(:@signature, signature)\n",
    "\n",
    "nil  # hide noisy output"
   ]
  },
  {
   "cell_type": "code",
   "execution_count": 23,
   "metadata": {
    "collapsed": false
   },
   "outputs": [
    {
     "data": {
      "text/plain": [
       "true"
      ]
     },
     "execution_count": 23,
     "metadata": {},
     "output_type": "execute_result"
    }
   ],
   "source": [
    "# Passes tests\n",
    "assert t1.verify_self_and_ancestors\n",
    "assert t2.verify_self_and_ancestors"
   ]
  },
  {
   "cell_type": "code",
   "execution_count": 24,
   "metadata": {
    "collapsed": false
   },
   "outputs": [
    {
     "name": "stdout",
     "output_type": "stream",
     "text": [
      "Transaction #1: \n",
      "\n",
      "From: \t\t\tOTxfWE7_vk\n",
      "To: \t\t\t\tMfI1GmXk74\n",
      "Amount: \t\t0.0\n",
      "Hash: \t\t\t94882fd39c046c462e7bb54eea4cadb650bc983b1e1a40f38af611889cf9ff74\n",
      "Signature: \t\tEVSZ10HlhnmGeSgFP67WVeyUa4bD0O0r1--dTd3hDMkOaMUxwISXkplUnTT-YvgROvUoX08kcSlV1xthrvQKig==\n",
      "Previous Hash: \t\n",
      "----------------------\n",
      "\n",
      "Transaction #2: \n",
      "\n",
      "From: \t\t\tOTxfWE7_vk\n",
      "To: \t\t\t\tMfI1GmXk74\n",
      "Amount: \t\t10.0\n",
      "Hash: \t\t\t8ff2db15641d9ebf3fb201b4182b3b9a85a592299e66436cae11b0b5078862f2\n",
      "Signature: \t\tf4IAHCL9uU4FJYQHAf4_uvFEh4sKNJPZZnWZE-MkmxVqSTQThV_YGHx7sIH0Rvp1WewmmRMJlYX3hsY1P_9UCA==\n",
      "Previous Hash: \t94882fd39c046c462e7bb54eea4cadb650bc983b1e1a40f38af611889cf9ff74\n",
      "----------------------\n",
      "\n"
     ]
    }
   ],
   "source": [
    "inspect_all_transactions\n",
    "\n",
    "nil  # hide noisy output"
   ]
  },
  {
   "cell_type": "markdown",
   "metadata": {},
   "source": [
    "### Double Spending\n",
    "\n",
    "[TODO]"
   ]
  },
  {
   "cell_type": "markdown",
   "metadata": {},
   "source": [
    "### Why not generate a hash chain using the last transaction?\n",
    "\n",
    "Need more research on this ...\n",
    "\n",
    "This will just ensure a totally chronological chain of transactions, and the reversal can only be done before another wallet transaction is added to the end. So why not use one single transaction chain?\n",
    "\n",
    "Maybe, since lots of transactions could be created at any given time, making the last transaction hard to determine. It might be too slow for a consensus to made by the entire network to determine which transaction is the last transaction due to the sheer number of transactions made by each node at any given time. This won't be too much of an issue if we only find the last transaction of the wallet that's making the transaction.\n",
    "\n",
    "Maybe that's why transactions are verified by Blocks instead?"
   ]
  },
  {
   "cell_type": "markdown",
   "metadata": {
    "collapsed": true
   },
   "source": [
    "To be continued ..."
   ]
  },
  {
   "cell_type": "code",
   "execution_count": null,
   "metadata": {
    "collapsed": true
   },
   "outputs": [],
   "source": []
  }
 ],
 "metadata": {
  "kernelspec": {
   "display_name": "Ruby 2.2.3",
   "language": "ruby",
   "name": "ruby"
  },
  "language_info": {
   "file_extension": ".rb",
   "mimetype": "application/x-ruby",
   "name": "ruby",
   "version": "2.2.3"
  }
 },
 "nbformat": 4,
 "nbformat_minor": 0
}
