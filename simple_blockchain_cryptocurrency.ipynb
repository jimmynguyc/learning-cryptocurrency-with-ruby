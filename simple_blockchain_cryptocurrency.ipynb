{
 "cells": [
  {
   "cell_type": "markdown",
   "metadata": {
    "slideshow": {
     "slide_type": "-"
    }
   },
   "source": [
    "# Simple Cryptocurrency Proof of Concept in Ruby"
   ]
  },
  {
   "cell_type": "code",
   "execution_count": 1,
   "metadata": {
    "collapsed": false,
    "slideshow": {
     "slide_type": "-"
    }
   },
   "outputs": [
    {
     "data": {
      "text/plain": [
       ":error_message"
      ]
     },
     "execution_count": 1,
     "metadata": {},
     "output_type": "execute_result"
    }
   ],
   "source": [
    "require 'openssl'\n",
    "require 'minitest'\n",
    "require 'benchmark'\n",
    "require 'base64'\n",
    "\n",
    "# Enable assertions outside of Minitest::Test \n",
    "include Minitest::Assertions\n",
    "Object.class_eval do\n",
    "  attr_accessor :assertions\n",
    "end\n",
    "self.assertions = 0\n",
    "\n",
    "# Override IRuby::Kernal to hide backtrace from display\n",
    "# https://github.com/SciRuby/iruby/blob/master/lib/iruby/kernel.rb\n",
    "IRuby::Kernel.class_eval do\n",
    "  def error_message(e)\n",
    "    { status: :error,\n",
    "        ename: e.class.to_s,\n",
    "        evalue: e.message,\n",
    "        traceback: [\"\\e[31m#{e.class}\\e[0m: #{e.message}\"],\n",
    "        execution_count: @execution_count }\n",
    "    end\n",
    "end\n"
   ]
  },
  {
   "cell_type": "markdown",
   "metadata": {},
   "source": [
    "## The Miner\n",
    "\n",
    "The miner takes in a message & finds a `nonce` that satisfies a POW difficulty level"
   ]
  },
  {
   "cell_type": "code",
   "execution_count": 2,
   "metadata": {
    "collapsed": false
   },
   "outputs": [
    {
     "data": {
      "text/plain": [
       ":mine"
      ]
     },
     "execution_count": 2,
     "metadata": {},
     "output_type": "execute_result"
    }
   ],
   "source": [
    "module Miner\n",
    "  def mine(message, difficulty_level = 2) # 2 leading zeros\n",
    "    nonce = 0\n",
    "    loop do\n",
    "      hash = OpenSSL::Digest::SHA256.new(message + nonce.to_s).to_s\n",
    "      return [hash, nonce] if hash.start_with? '0' * difficulty_level\n",
    "      nonce += 1\n",
    "    end\n",
    "  end\n",
    "end"
   ]
  },
  {
   "cell_type": "markdown",
   "metadata": {},
   "source": [
    "Time required to mine increases exponentially when difficulty increases. Difficulty would increase according to the moving average of time for each block to be added to the blockchain."
   ]
  },
  {
   "cell_type": "code",
   "execution_count": 3,
   "metadata": {
    "collapsed": false
   },
   "outputs": [
    {
     "name": "stdout",
     "output_type": "stream",
     "text": [
      "[\"00b894f575e9311a064511b37bc5bfd57365980ba9157aaf69afec3fecf8178a\", 5]\n",
      "  0.000000   0.000000   0.000000 (  0.000196)\n",
      "\n",
      "[\"000065a302ba3d5ff98dd372b82ab1837fbbbae10c4576a9b17d778dfda89955\", 61125]\n",
      "  0.210000   0.000000   0.210000 (  0.217808)\n",
      "\n"
     ]
    }
   ],
   "source": [
    "class TestMiner; include Miner; end\n",
    "\n",
    "puts Benchmark.measure { puts TestMiner.new.mine 'bar' }\n",
    "puts Benchmark.measure { puts TestMiner.new.mine 'bar', 4 }\n",
    "# puts Benchmark.measure { puts TestMiner.new.mine 'bar', 6 }"
   ]
  },
  {
   "cell_type": "markdown",
   "metadata": {},
   "source": [
    "## Wallets\n",
    "\n",
    "Here we're creating a simple coin wallet with a set of Public/Private keys using a 512 bit RSA for Public Key encryption. \n",
    "\n",
    "We'll simply use the an URL safe base64 encoded Public Key as the wallet address."
   ]
  },
  {
   "cell_type": "code",
   "execution_count": 4,
   "metadata": {
    "collapsed": false
   },
   "outputs": [
    {
     "data": {
      "text/plain": [
       "#<Wallet:0x007ff9a7509648 @key=#<OpenSSL::PKey::RSA:0x007ff9a75095d0>, @address=\"MFwwDQYJKoZIhvcNAQEBBQADSwAwSAJBANv16ux--mK-kw81A2bFG0AOngSW7JESdgxleUICqD2XMw9-G5zY_6xtpoen8CPwafVuUQgbM7FjkC4unEgYhI8CAwEAAQ==\">"
      ]
     },
     "execution_count": 4,
     "metadata": {},
     "output_type": "execute_result"
    }
   ],
   "source": [
    "class Wallet\n",
    "  attr_reader :address\n",
    "  \n",
    "  def initialize\n",
    "    @key = OpenSSL::PKey::RSA.new(512)  # obviously insecure\n",
    "    @address = Base64.urlsafe_encode64(@key.public_key.to_der)\n",
    "  end\n",
    "  \n",
    "  def sign(message)\n",
    "    digest = OpenSSL::Digest::SHA256.new(message)\n",
    "    sig = @key.sign(digest, message)\n",
    "    Base64.urlsafe_encode64(sig)\n",
    "  end\n",
    "end\n",
    "\n",
    "w = Wallet.new\n"
   ]
  },
  {
   "cell_type": "markdown",
   "metadata": {},
   "source": [
    "And then we want to have some helper methods to verify the encryption."
   ]
  },
  {
   "cell_type": "code",
   "execution_count": 5,
   "metadata": {
    "collapsed": false
   },
   "outputs": [
    {
     "data": {
      "text/plain": [
       "#<TestVerifier:0x007ff9a74ebc88>"
      ]
     },
     "execution_count": 5,
     "metadata": {},
     "output_type": "execute_result"
    }
   ],
   "source": [
    "module PKeyVerifier\n",
    "  def verify(pkey_base64, signature_base64, message)\n",
    "    pkey = Base64.urlsafe_decode64(pkey_base64)\n",
    "    signature = Base64.urlsafe_decode64(signature_base64)\n",
    "    \n",
    "    key =  OpenSSL::PKey::RSA.new(pkey)\n",
    "    digest = OpenSSL::Digest::SHA256.new(message)\n",
    "    key.verify(digest, signature, message)\n",
    "  end\n",
    "end\n",
    "\n",
    "class TestVerifier; include PKeyVerifier; end\n",
    "pkey_verifier = TestVerifier.new"
   ]
  },
  {
   "cell_type": "code",
   "execution_count": 6,
   "metadata": {
    "collapsed": false
   },
   "outputs": [
    {
     "data": {
      "text/plain": [
       "true"
      ]
     },
     "execution_count": 6,
     "metadata": {},
     "output_type": "execute_result"
    }
   ],
   "source": [
    "signature = w.sign('some transaction')\n",
    "assert pkey_verifier.verify(w.address, signature, 'some transaction')"
   ]
  },
  {
   "cell_type": "code",
   "execution_count": 7,
   "metadata": {
    "collapsed": false
   },
   "outputs": [
    {
     "ename": "Minitest::Assertion",
     "evalue": "Message altered",
     "output_type": "error",
     "traceback": [
      "\u001b[31mMinitest::Assertion\u001b[0m: Message altered"
     ]
    }
   ],
   "source": [
    "assert pkey_verifier.verify(w.address, signature, 'some altered transaction'), 'Message altered'"
   ]
  },
  {
   "cell_type": "code",
   "execution_count": 8,
   "metadata": {
    "collapsed": false
   },
   "outputs": [
    {
     "ename": "Minitest::Assertion",
     "evalue": "Message not signed by same wallet",
     "output_type": "error",
     "traceback": [
      "\u001b[31mMinitest::Assertion\u001b[0m: Message not signed by same wallet"
     ]
    }
   ],
   "source": [
    "another_wallet = Wallet.new\n",
    "assert pkey_verifier.verify(another_wallet.address, signature, 'some transaction'), 'Message not signed by same wallet'"
   ]
  },
  {
   "cell_type": "markdown",
   "metadata": {},
   "source": [
    "## Transactions"
   ]
  },
  {
   "cell_type": "markdown",
   "metadata": {
    "collapsed": false
   },
   "source": [
    "A transaction would need to have a `source` wallet, and an instructions of amounts to send to a `destination` wallets. "
   ]
  },
  {
   "cell_type": "code",
   "execution_count": 9,
   "metadata": {
    "collapsed": false
   },
   "outputs": [
    {
     "data": {
      "text/plain": [
       ":initialize"
      ]
     },
     "execution_count": 9,
     "metadata": {},
     "output_type": "execute_result"
    }
   ],
   "source": [
    "class Transaction\n",
    "  attr_reader :source_wallet, :instruction\n",
    "  \n",
    "  def initialize(source_wallet, instructions)\n",
    "    @source_wallet = source_wallet\n",
    "    @instructions = instructions\n",
    "  end\n",
    "end"
   ]
  },
  {
   "cell_type": "markdown",
   "metadata": {},
   "source": [
    "## Transaction Instructions\n",
    "\n",
    "We'll define a class for Transaction Instructions. Each transaction instruction will define the target wallet & the amount to send."
   ]
  },
  {
   "cell_type": "code",
   "execution_count": 10,
   "metadata": {
    "collapsed": false
   },
   "outputs": [
    {
     "data": {
      "text/plain": [
       ":to_hash"
      ]
     },
     "execution_count": 10,
     "metadata": {},
     "output_type": "execute_result"
    }
   ],
   "source": [
    "class Transaction::Instruction\n",
    "  attr_reader :target_wallet, :amount\n",
    "  \n",
    "  def initialize(target_wallet, amount)\n",
    "    @target_wallet = target_wallet\n",
    "    @amount = amount.to_f\n",
    "  end\n",
    "  \n",
    "  def to_hash\n",
    "    { \n",
    "      target:  @target_wallet,\n",
    "      amount: @amount\n",
    "    }\n",
    "  end\n",
    "end"
   ]
  },
  {
   "cell_type": "markdown",
   "metadata": {},
   "source": [
    "So a typical transaction will look more of less like so "
   ]
  },
  {
   "cell_type": "code",
   "execution_count": 11,
   "metadata": {
    "collapsed": false
   },
   "outputs": [],
   "source": [
    "w1 = Wallet.new\n",
    "w2 = Wallet.new\n",
    "\n",
    "t1 = Transaction.new(w1, Transaction::Instruction.new(w2, 25.0))\n",
    "\n",
    "nil  # hide noisy output"
   ]
  },
  {
   "cell_type": "markdown",
   "metadata": {},
   "source": [
    "## Transactions List\n",
    "\n",
    "In a ledger system, all transactions will be a chronologically ordered list. In our case, we'll just add them into a global variable as soon as each transaction is defined."
   ]
  },
  {
   "cell_type": "code",
   "execution_count": 12,
   "metadata": {
    "collapsed": false
   },
   "outputs": [
    {
     "data": {
      "text/plain": [
       ":append_to_transactions_list"
      ]
     },
     "execution_count": 12,
     "metadata": {},
     "output_type": "execute_result"
    }
   ],
   "source": [
    "class Transaction\n",
    "  attr_reader :source_wallet, :instruction\n",
    "  \n",
    "  def initialize(source_wallet, instruction)\n",
    "    @source_wallet = source_wallet\n",
    "    @instruction = instruction\n",
    "    \n",
    "    append_to_transactions_list\n",
    "  end\n",
    "  \n",
    "  def to_hash\n",
    "    {\n",
    "      source: @source_wallet,\n",
    "      instruction: @instruction.to_hash\n",
    "    }\n",
    "  end\n",
    "  \n",
    "  def append_to_transactions_list\n",
    "    $transaction_list << self\n",
    "  end\n",
    "end\n"
   ]
  },
  {
   "cell_type": "markdown",
   "metadata": {
    "collapsed": true
   },
   "source": [
    "Now, according to the Bitcoin whitepaper, each transaction owner should digitally sign a hash of previous transaction with public key of next owner, so that a payee can verify the chain of ownership.\n",
    "\n",
    "To achieve that, we'll need to find the last transaction of the `source` wallet, and use it as create a hash & signature. Time to tweak `Transaction`."
   ]
  },
  {
   "cell_type": "code",
   "execution_count": 13,
   "metadata": {
    "collapsed": false
   },
   "outputs": [
    {
     "data": {
      "text/plain": [
       ":to_hash"
      ]
     },
     "execution_count": 13,
     "metadata": {},
     "output_type": "execute_result"
    }
   ],
   "source": [
    "class Transaction\n",
    "  attr_reader :hash, :signature, :previous_hash\n",
    "  \n",
    "  def initialize(source_wallet, instruction, hash, signature, previous_hash)\n",
    "    @source_wallet = source_wallet\n",
    "    @instruction = instruction\n",
    "    @hash = hash\n",
    "    @signature = signature\n",
    "    @previous_hash = previous_hash\n",
    "    \n",
    "    append_to_transactions_list\n",
    "  end\n",
    "\n",
    "  def to_hash \n",
    "    {\n",
    "      owner: @source_wallet,\n",
    "      instruction: @instruction.to_hash,\n",
    "      hash: @hash,\n",
    "      signature: @signature,\n",
    "      previous_hash: @previous_hash,\n",
    "    }\n",
    "  end\n",
    "  \n",
    "end"
   ]
  },
  {
   "cell_type": "code",
   "execution_count": 14,
   "metadata": {
    "collapsed": false
   },
   "outputs": [
    {
     "data": {
      "text/plain": [
       ":last_wallet_transaction"
      ]
     },
     "execution_count": 14,
     "metadata": {},
     "output_type": "execute_result"
    }
   ],
   "source": [
    "class Wallet\n",
    "  def sign_instruction(instruction)\n",
    "    previous_hash = last_wallet_transaction && last_wallet_transaction.hash\n",
    "    hash_payload  = {\n",
    "      target_address: instruction.target_wallet,\n",
    "      previous_hash: previous_hash,\n",
    "      instruction: instruction.to_hash\n",
    "    }\n",
    "    hash = OpenSSL::Digest::SHA256.new(hash_payload.to_s)\n",
    "    signature = sign(hash.to_s)\n",
    "    \n",
    "    [hash, signature, previous_hash]\n",
    "  end\n",
    "  \n",
    "  def last_wallet_transaction\n",
    "    $transaction_list.select {|t| t.source_wallet == self.address}.last\n",
    "  end\n",
    "end\n"
   ]
  },
  {
   "cell_type": "code",
   "execution_count": 15,
   "metadata": {
    "collapsed": false
   },
   "outputs": [],
   "source": [
    "$transaction_list = []\n",
    "\n",
    "w1 = Wallet.new\n",
    "w2 = Wallet.new\n",
    "w3 = Wallet.new\n",
    "\n",
    "\n",
    "# We'll pretend that $transaction_list is being transferred through the network as the public ledger\n",
    "# Since Transactions will be public, all data stored within should be kosher for public viewing (i.e. no private keys)\n",
    "t1 = Transaction.new(w1.address, i = Transaction::Instruction.new(w2.address, 25.0), *w1.sign_instruction(i))\n",
    "t2 = Transaction.new(w1.address, i = Transaction::Instruction.new(w2.address, 10.0), *w1.sign_instruction(i))\n",
    "t3 = Transaction.new(w2.address, i = Transaction::Instruction.new(w3.address, 5.0), *w2.sign_instruction(i))\n",
    "t4 = Transaction.new(w2.address, i = Transaction::Instruction.new(w3.address, 2.0), *w2.sign_instruction(i))\n",
    "\n",
    "nil  # hide noisy output"
   ]
  },
  {
   "cell_type": "code",
   "execution_count": 16,
   "metadata": {
    "collapsed": false
   },
   "outputs": [
    {
     "name": "stdout",
     "output_type": "stream",
     "text": [
      "Transaction #1: \n",
      "\n",
      "From: \t\t\tLHK-Cutb_1\n",
      "To: \t\t\t\tLAsia2fh1v\n",
      "Amount: \t\t25.0\n",
      "Hash: \t\t\t8ed94054ba290dcc56ddb46aa127a7f7574f7d0a38d9ac61bb63d5f18cd5a369\n",
      "Signature: \t\tCqBK4Al6rs1UT7DEG5h6ieNiYBCsXAFv7pnp0oNt74xeG1AeI2aTK47nK-BSQJHgg_-oxNIVH_yYEy2ZDj98Lw==\n",
      "Previous Hash: \t\n",
      "----------------------\n",
      "\n",
      "Transaction #2: \n",
      "\n",
      "From: \t\t\tLHK-Cutb_1\n",
      "To: \t\t\t\tLAsia2fh1v\n",
      "Amount: \t\t10.0\n",
      "Hash: \t\t\t6565233d6ff6c789746c1124396721a8fffcf10b25cfd7c9dd8a13c6cdf3565b\n",
      "Signature: \t\tlNgL14_g5vH6CaXb6SOWVs2-UPShTwsn4fYLP_zS39kJ4kzw4Sq_4QcqovTCOQb_5bOWCHRCcZ6n9cxfogZ1Qg==\n",
      "Previous Hash: \t8ed94054ba290dcc56ddb46aa127a7f7574f7d0a38d9ac61bb63d5f18cd5a369\n",
      "----------------------\n",
      "\n",
      "Transaction #3: \n",
      "\n",
      "From: \t\t\tLAsia2fh1v\n",
      "To: \t\t\t\tJWysX4287s\n",
      "Amount: \t\t5.0\n",
      "Hash: \t\t\tb018485c585c0b4954f2ff4f0b25fec2a60a69cd10d0d5c8f458c2882d46eaf5\n",
      "Signature: \t\tQJSOTs59lvSJZOG7N8YdEJtygOiJXNlUUTow9FpUTt3B5figvNrAYNZkl2j2geWnhQnucCd1lKuD7Kb2UnteXg==\n",
      "Previous Hash: \t\n",
      "----------------------\n",
      "\n",
      "Transaction #4: \n",
      "\n",
      "From: \t\t\tLAsia2fh1v\n",
      "To: \t\t\t\tJWysX4287s\n",
      "Amount: \t\t2.0\n",
      "Hash: \t\t\ta1ffd6a71618e81375588cb84d51cb91b329011ca1fde25c1d766f50fe89c714\n",
      "Signature: \t\tTW-O1KfjXlO3Rjb16g3FE2Xem-QCVdueiMZygY3hnjBd_1kWjQt-bXTMbRnR0fEKDXl0ykfjn__Azu7uV7BRYQ==\n",
      "Previous Hash: \tb018485c585c0b4954f2ff4f0b25fec2a60a69cd10d0d5c8f458c2882d46eaf5\n",
      "----------------------\n",
      "\n"
     ]
    }
   ],
   "source": [
    "def inspect_all_transactions\n",
    "  $transaction_list.map(&:to_hash).each_with_index do |t, index|\n",
    "    source_address = t[:owner][33..42]  # for display purposes\n",
    "    target_address = t[:instruction][:target][33..42]  # for display purposes\n",
    "\n",
    "    puts \"Transaction ##{index+1}: \\n\"\n",
    "    puts \"From: \\t\\t\\t#{source_address}\"\n",
    "    puts \"To: \\t\\t\\t\\t#{target_address}\"\n",
    "    puts \"Amount: \\t\\t#{t[:instruction][:amount]}\"\n",
    "    puts \"Hash: \\t\\t\\t#{t[:hash]}\"\n",
    "    puts \"Signature: \\t\\t#{t[:signature]}\"\n",
    "    puts \"Previous Hash: \\t#{t[:previous_hash]}\"\n",
    "    puts \"----------------------\\n\"\n",
    "  end\n",
    "end\n",
    "\n",
    "inspect_all_transactions\n",
    "\n",
    "nil  # hide noisy output"
   ]
  },
  {
   "cell_type": "markdown",
   "metadata": {},
   "source": [
    "So as the payees, the data integrity can be verified through the signature chains."
   ]
  },
  {
   "cell_type": "code",
   "execution_count": 17,
   "metadata": {
    "collapsed": false
   },
   "outputs": [
    {
     "data": {
      "text/plain": [
       "true"
      ]
     },
     "execution_count": 17,
     "metadata": {},
     "output_type": "execute_result"
    }
   ],
   "source": [
    "class Transaction\n",
    "  include PKeyVerifier\n",
    "\n",
    "  def self.find_transaction(hash)\n",
    "    $transaction_list.find { |t| t.hash == hash }\n",
    "  end\n",
    "  \n",
    "  def verify_self_and_ancestors\n",
    "    verify_transaction\n",
    "    \n",
    "    return true unless @previous_hash\n",
    "    self.class.find_transaction(@previous_hash).verify_self_and_ancestors\n",
    "  end\n",
    "  \n",
    "  def verify_transaction\n",
    "    raise 'Invalid transaction' unless verify(@source_wallet, @signature, recalculate_hash.to_s)\n",
    "    true\n",
    "  end\n",
    "  \n",
    "  def recalculate_hash\n",
    "    hash_payload = {\n",
    "      target_address: @instruction.target_wallet,\n",
    "      previous_hash: previous_transaction && previous_transaction.hash,\n",
    "      instruction: @instruction.to_hash\n",
    "    }\n",
    "    OpenSSL::Digest::SHA256.new(hash_payload.to_s)\n",
    "  end\n",
    "  \n",
    "  def previous_transaction\n",
    "    self.class.find_transaction(@previous_hash)\n",
    "  end\n",
    "end\n",
    "\n",
    "t1.verify_self_and_ancestors"
   ]
  },
  {
   "cell_type": "markdown",
   "metadata": {},
   "source": [
    "Changes to the transaction instructions or target wallets are quickly detectable throughout the chain."
   ]
  },
  {
   "cell_type": "code",
   "execution_count": 18,
   "metadata": {
    "collapsed": false
   },
   "outputs": [
    {
     "ename": "RuntimeError",
     "evalue": "Invalid transaction",
     "output_type": "error",
     "traceback": [
      "\u001b[31mRuntimeError\u001b[0m: Invalid transaction"
     ]
    }
   ],
   "source": [
    "hacker_wallet = Wallet.new\n",
    "\n",
    "t2.instance_variable_set(:@instruction, Transaction::Instruction.new(hacker_wallet.address, 10.0))\n",
    "t2.verify_self_and_ancestors"
   ]
  },
  {
   "cell_type": "markdown",
   "metadata": {},
   "source": [
    "## Tampering with the public ledger\n",
    "\n",
    "### Reversing transactions\n",
    "\n",
    "It is still possible to alter the transactions within the ledger if those Transactions originated from the attacker's wallet, since they can re-sign the hashes, allowing them to reverse any transactions made by them."
   ]
  },
  {
   "cell_type": "code",
   "execution_count": 19,
   "metadata": {
    "collapsed": false
   },
   "outputs": [
    {
     "name": "stdout",
     "output_type": "stream",
     "text": [
      "Transaction #1: \n",
      "\n",
      "From: \t\t\tJrsQeGd9kt\n",
      "To: \t\t\t\tLAsia2fh1v\n",
      "Amount: \t\t25.0\n",
      "Hash: \t\t\t8ed94054ba290dcc56ddb46aa127a7f7574f7d0a38d9ac61bb63d5f18cd5a369\n",
      "Signature: \t\teOD6CqmQOY-uWLetgIfm0UIowndqqFexMQlMndWxDMTMWtKXKcfuCO31y9qdMywuU3QBid834RSH6DjuIrHg0A==\n",
      "Previous Hash: \t\n",
      "----------------------\n",
      "\n",
      "Transaction #2: \n",
      "\n",
      "From: \t\t\tJrsQeGd9kt\n",
      "To: \t\t\t\tLAsia2fh1v\n",
      "Amount: \t\t10.0\n",
      "Hash: \t\t\t6565233d6ff6c789746c1124396721a8fffcf10b25cfd7c9dd8a13c6cdf3565b\n",
      "Signature: \t\tVrVGjPSb8pt9KlF6RreyAWrIyo06lx-TU30aIXcfr5z2eGR0m3u7cnwmSz_LNcPah5HVERpuqeq0jg7JooEDaA==\n",
      "Previous Hash: \t8ed94054ba290dcc56ddb46aa127a7f7574f7d0a38d9ac61bb63d5f18cd5a369\n",
      "----------------------\n",
      "\n",
      "Transaction #3: \n",
      "\n",
      "From: \t\t\tLAsia2fh1v\n",
      "To: \t\t\t\tJWysX4287s\n",
      "Amount: \t\t5.0\n",
      "Hash: \t\t\tb018485c585c0b4954f2ff4f0b25fec2a60a69cd10d0d5c8f458c2882d46eaf5\n",
      "Signature: \t\tQJSOTs59lvSJZOG7N8YdEJtygOiJXNlUUTow9FpUTt3B5figvNrAYNZkl2j2geWnhQnucCd1lKuD7Kb2UnteXg==\n",
      "Previous Hash: \t\n",
      "----------------------\n",
      "\n",
      "Transaction #4: \n",
      "\n",
      "From: \t\t\tLAsia2fh1v\n",
      "To: \t\t\t\tJWysX4287s\n",
      "Amount: \t\t2.0\n",
      "Hash: \t\t\ta1ffd6a71618e81375588cb84d51cb91b329011ca1fde25c1d766f50fe89c714\n",
      "Signature: \t\tTW-O1KfjXlO3Rjb16g3FE2Xem-QCVdueiMZygY3hnjBd_1kWjQt-bXTMbRnR0fEKDXl0ykfjn__Azu7uV7BRYQ==\n",
      "Previous Hash: \tb018485c585c0b4954f2ff4f0b25fec2a60a69cd10d0d5c8f458c2882d46eaf5\n",
      "----------------------\n",
      "\n"
     ]
    }
   ],
   "source": [
    "$transaction_list = []\n",
    "\n",
    "t1 = Transaction.new(hacker_wallet.address, i = Transaction::Instruction.new(w2.address, 25.0), *hacker_wallet.sign_instruction(i))\n",
    "t2 = Transaction.new(hacker_wallet.address, i = Transaction::Instruction.new(w2.address, 10.0), *hacker_wallet.sign_instruction(i))\n",
    "t3 = Transaction.new(w2.address, i = Transaction::Instruction.new(w3.address, 5.0), *w2.sign_instruction(i))\n",
    "t4 = Transaction.new(w2.address, i = Transaction::Instruction.new(w3.address, 2.0), *w2.sign_instruction(i))\n",
    "\n",
    "inspect_all_transactions\n",
    "\n",
    "nil  # hide noisy output"
   ]
  },
  {
   "cell_type": "code",
   "execution_count": 20,
   "metadata": {
    "collapsed": false
   },
   "outputs": [
    {
     "data": {
      "text/plain": [
       "true"
      ]
     },
     "execution_count": 20,
     "metadata": {},
     "output_type": "execute_result"
    }
   ],
   "source": [
    "def hacker_wallet.l33t_sign_instruction(instruction, current_transaction)\n",
    "  previous_hash = current_transaction.previous_hash\n",
    "  hash_payload  = {\n",
    "    target_address: instruction.target_wallet,\n",
    "    previous_hash: previous_hash,\n",
    "    instruction: instruction.to_hash\n",
    "  }\n",
    "  hash = OpenSSL::Digest::SHA256.new(hash_payload.to_s)\n",
    "  signature = sign(hash.to_s)\n",
    "\n",
    "  [hash, signature, previous_hash]\n",
    "end\n",
    "\n",
    "# Reversing 25.0 transfer to w2\n",
    "i = Transaction::Instruction.new(t1.instruction.target_wallet, 0.0)\n",
    "hash, signature, previous_hash = hacker_wallet.l33t_sign_instruction(i, t1)\n",
    "t1.instance_variable_set(:@instruction, i)\n",
    "t1.instance_variable_set(:@hash, hash)\n",
    "t1.instance_variable_set(:@signature, signature)\n",
    "\n",
    "# Update t2's previous_hash\n",
    "t2.instance_variable_set(:@previous_hash, hash)\n",
    "\n",
    "# Recalculate hash for all later transactions\n",
    "i = Transaction::Instruction.new(t2.instruction.target_wallet, t2.instruction.amount)\n",
    "hash, signature, previous_hash = hacker_wallet.l33t_sign_instruction(i, t2)\n",
    "t2.instance_variable_set(:@hash, hash)\n",
    "t2.instance_variable_set(:@signature, signature)\n",
    "\n",
    "\n",
    "# Passes tests\n",
    "assert t1.verify_self_and_ancestors\n",
    "assert t2.verify_self_and_ancestors"
   ]
  },
  {
   "cell_type": "code",
   "execution_count": 21,
   "metadata": {
    "collapsed": false
   },
   "outputs": [
    {
     "name": "stdout",
     "output_type": "stream",
     "text": [
      "Transaction #1: \n",
      "\n",
      "From: \t\t\tJrsQeGd9kt\n",
      "To: \t\t\t\tLAsia2fh1v\n",
      "Amount: \t\t0.0\n",
      "Hash: \t\t\t533491acf7ec311bf60659c63fa11a8bcc1b346dbfffa44f9038da9d36c539b8\n",
      "Signature: \t\thTMlMANDw5YoT9IkrCPrI2cA6E60Ku13TYK9Yf7wJ2ZgWuYSIYgDcU5IZ8VSgXT8Ah43C03B9eJFjjhColR-yA==\n",
      "Previous Hash: \t\n",
      "----------------------\n",
      "\n",
      "Transaction #2: \n",
      "\n",
      "From: \t\t\tJrsQeGd9kt\n",
      "To: \t\t\t\tLAsia2fh1v\n",
      "Amount: \t\t10.0\n",
      "Hash: \t\t\tb24cc3ee700c5a7c8c70fe3aac1553df930b5052c5405a82ebe1e7796398a8c6\n",
      "Signature: \t\tIAHh_uTe5MRiQvM0kActulOKN6BUl7XOzKF947v3IV2T45afL3quQtgNWg77feH2VsWyqAGCj9eqUxxbWLG5jw==\n",
      "Previous Hash: \t533491acf7ec311bf60659c63fa11a8bcc1b346dbfffa44f9038da9d36c539b8\n",
      "----------------------\n",
      "\n",
      "Transaction #3: \n",
      "\n",
      "From: \t\t\tLAsia2fh1v\n",
      "To: \t\t\t\tJWysX4287s\n",
      "Amount: \t\t5.0\n",
      "Hash: \t\t\tb018485c585c0b4954f2ff4f0b25fec2a60a69cd10d0d5c8f458c2882d46eaf5\n",
      "Signature: \t\tQJSOTs59lvSJZOG7N8YdEJtygOiJXNlUUTow9FpUTt3B5figvNrAYNZkl2j2geWnhQnucCd1lKuD7Kb2UnteXg==\n",
      "Previous Hash: \t\n",
      "----------------------\n",
      "\n",
      "Transaction #4: \n",
      "\n",
      "From: \t\t\tLAsia2fh1v\n",
      "To: \t\t\t\tJWysX4287s\n",
      "Amount: \t\t2.0\n",
      "Hash: \t\t\ta1ffd6a71618e81375588cb84d51cb91b329011ca1fde25c1d766f50fe89c714\n",
      "Signature: \t\tTW-O1KfjXlO3Rjb16g3FE2Xem-QCVdueiMZygY3hnjBd_1kWjQt-bXTMbRnR0fEKDXl0ykfjn__Azu7uV7BRYQ==\n",
      "Previous Hash: \tb018485c585c0b4954f2ff4f0b25fec2a60a69cd10d0d5c8f458c2882d46eaf5\n",
      "----------------------\n",
      "\n"
     ]
    }
   ],
   "source": [
    "inspect_all_transactions\n",
    "\n",
    "nil  # hide noisy output"
   ]
  },
  {
   "cell_type": "markdown",
   "metadata": {},
   "source": [
    "### Double Spending\n",
    "\n",
    "To be continued ..."
   ]
  },
  {
   "cell_type": "markdown",
   "metadata": {},
   "source": [
    "## Why not generate a hash chain using the last transaction?\n",
    "\n",
    "Need more research on this. Let me know if you know the answer :D\n",
    "\n",
    "This will just ensure a totally chronological chain of transactions, and the reversal can only be done before another wallet transaction is added to the end. So why not use one single transaction chain?\n",
    "\n",
    "Maybe, since lots of transactions could be created at any given time, making the last transaction hard to determine. Also it would be too slow for a consensus to made by the entire network to determine which transaction is the last transaction due to the sheer number of transactions made by each node at any given time. \n",
    "\n",
    "Maybe that's why transactions are verified by Blocks instead?"
   ]
  },
  {
   "cell_type": "markdown",
   "metadata": {
    "collapsed": true
   },
   "source": [
    "To be continued ..."
   ]
  },
  {
   "cell_type": "code",
   "execution_count": null,
   "metadata": {
    "collapsed": true
   },
   "outputs": [],
   "source": [
    "#"
   ]
  }
 ],
 "metadata": {
  "kernelspec": {
   "display_name": "Ruby 2.2.3",
   "language": "ruby",
   "name": "ruby"
  },
  "language_info": {
   "file_extension": ".rb",
   "mimetype": "application/x-ruby",
   "name": "ruby",
   "version": "2.2.3"
  }
 },
 "nbformat": 4,
 "nbformat_minor": 0
}
